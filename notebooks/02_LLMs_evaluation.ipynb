{
 "cells": [
  {
   "cell_type": "markdown",
   "metadata": {},
   "source": [
    "# Evaluation of Large Language Models (LLMs) for Foundational Nature AI\n",
    "\n",
    "This notebook outlines a structured approach to evaluating large language models (LLMs) as prototypes for a Foundational Nature AI. This initiative aims to leverage LLMs to inform questions about biodiversity and conservation, crucial for making real-world decisions. The concept emerged from the OpenNature initiative, a key output of the Nature Data Unlocked workshop held in Cambridge in late May. Proposed by Drew Purves at Google DeepMind, with Vizzuality offering technical implementation support, this project seeks to explore the potential of LLMs in environmental science and policy.\n",
    "\n",
    "The evaluation employs three distinct systems, each designed to test the capabilities and flexibility of LLMs under different conditions, specifically tailored to address issues related to biodiversity and conservation. The goal is to understand how these models perform in scenarios ranging from zero-shot learning to the utilization of customized information, with a focus on their application in environmental decision-making. Below is a detailed description of each system:\n",
    "\n",
    "- **System 1 (S1) - Zero-Shot Learning:** This approach evaluates the LLM's ability to understand and respond to queries about biodiversity and conservation without any prior specific training or context. It tests the model's inherent knowledge and its capacity to infer answers based on that knowledge, crucial for addressing unexpected or novel environmental issues.\n",
    "\n",
    "- **System 2 (S2) - Retrieval Augmented Generation:** This system introduces a default dossier or a set of background information related to environmental science into the prompt. The purpose is to assess how well the LLM can utilize additional context provided at the time of the query to enhance its responses. This tests the model's ability to integrate new, relevant information with its pre-existing knowledge base, a key factor in providing accurate and useful information for conservation efforts. The use of techniques like Retrieval Augmented Generation (RAG) could potentially enhance this process by dynamically retrieving and incorporating external knowledge sources.\n",
    "\n",
    "- **System 3 (S3) - Custom Dossier:** Unlike S2, which uses a generic set of information, S3 involves creating a custom dossier tailored to the specific query or topic at hand, related to biodiversity and conservation. This method aims to evaluate the LLM's performance when given highly relevant and targeted information, testing its ability to process and apply specific details to generate accurate and context-aware responses, essential for informed decision-making in environmental conservation.\n",
    "\n",
    "The evaluation of LLMs through these systems will provide insights into their adaptability, information processing capabilities, and overall performance in diverse scenarios related to environmental science and policy. This structured approach allows for a comprehensive assessment of LLMs as prototypes for a Foundational Nature AI, highlighting their strengths and areas for improvement in contributing to biodiversity and conservation efforts."
   ]
  },
  {
   "cell_type": "markdown",
   "metadata": {},
   "source": [
    "## Table of Contents\n",
    "\n",
    "1. [System 1 (S1) - Zero-Shot Learning](#s1)\n",
    "2. [System 2 (S2) - Retrieval Augmented Generation](#s2)\n",
    "3. [System 3 (S3) - Custom Dossier](#s3)"
   ]
  },
  {
   "attachments": {},
   "cell_type": "markdown",
   "metadata": {},
   "source": [
    "## Setup\n",
    "\n",
    "### Library import\n"
   ]
  },
  {
   "cell_type": "code",
   "execution_count": 1,
   "metadata": {
    "collapsed": false
   },
   "outputs": [],
   "source": [
    "import os\n",
    "from typing import Type, Union\n",
    "\n",
    "import requests\n",
    "from dotenv import load_dotenv\n",
    "from langchain.agents import AgentExecutor, create_tool_calling_agent\n",
    "from langchain.chains import create_retrieval_chain\n",
    "from langchain.chains.combine_documents import create_stuff_documents_chain\n",
    "from langchain.document_loaders import PyPDFLoader\n",
    "from langchain.prompts import (\n",
    "    ChatPromptTemplate,\n",
    "    HumanMessagePromptTemplate,\n",
    "    SystemMessagePromptTemplate,\n",
    ")\n",
    "from langchain.pydantic_v1 import BaseModel, Field\n",
    "from langchain.text_splitter import RecursiveCharacterTextSplitter\n",
    "from langchain.tools import BaseTool\n",
    "from langchain_chroma import Chroma\n",
    "from langchain_community.tools.tavily_search import TavilySearchResults\n",
    "from langchain_openai import ChatOpenAI, OpenAIEmbeddings"
   ]
  },
  {
   "attachments": {},
   "cell_type": "markdown",
   "metadata": {},
   "source": [
    "**Add API Keys to environment variables**"
   ]
  },
  {
   "cell_type": "code",
   "execution_count": 10,
   "metadata": {},
   "outputs": [],
   "source": [
    "load_dotenv()\n",
    "\n",
    "os.environ[\"OPENAI_API_KEY\"] = os.getenv(\"OPENAI_API_KEY\")\n",
    "os.environ[\"TAVILY_API_KEY\"] = os.getenv(\"TAVILY_API_KEY\")\n",
    "os.environ[\"INATURALIST_API_KEY\"] = os.getenv(\"INATURALIST_API_KEY\")"
   ]
  },
  {
   "attachments": {},
   "cell_type": "markdown",
   "metadata": {
    "collapsed": false
   },
   "source": [
    "<a id='s1'></a>\n",
    "## 1. System 1 (S1) - Zero-Shot Learning\n",
    "\n",
    "### Description\n",
    "\n",
    "System 1 evaluates the LLM's ability to understand and respond to queries about biodiversity and conservation without any prior specific training or context. This approach tests the model's inherent knowledge and its capacity to infer answers based on that knowledge, crucial for addressing unexpected or novel environmental issues."
   ]
  },
  {
   "cell_type": "markdown",
   "metadata": {},
   "source": [
    "**Create the prompt template:** "
   ]
  },
  {
   "cell_type": "code",
   "execution_count": 11,
   "metadata": {
    "collapsed": false
   },
   "outputs": [],
   "source": [
    "system_template = \"\"\"You are a Foundational Nature AI capable of informing questions about\n",
    "biodiversity and conservation relevant for real-world decisions.\"\"\"\n",
    "system_message_prompt = SystemMessagePromptTemplate.from_template(system_template)\n",
    "\n",
    "human_template = \"{text}\"\n",
    "human_message_prompt = HumanMessagePromptTemplate.from_template(human_template)\n",
    "\n",
    "chat_prompt_template = ChatPromptTemplate.from_messages(\n",
    "    [system_message_prompt, human_message_prompt]\n",
    ")"
   ]
  },
  {
   "cell_type": "markdown",
   "metadata": {},
   "source": [
    "**Initialize the chat model**"
   ]
  },
  {
   "cell_type": "code",
   "execution_count": 12,
   "metadata": {},
   "outputs": [],
   "source": [
    "llm_open_ai = ChatOpenAI(model=\"gpt-4o\", max_tokens=1024)"
   ]
  },
  {
   "cell_type": "markdown",
   "metadata": {},
   "source": [
    "**Invoke the chat model with the prompt**"
   ]
  },
  {
   "cell_type": "code",
   "execution_count": 19,
   "metadata": {},
   "outputs": [
    {
     "name": "stdout",
     "output_type": "stream",
     "text": [
      "| Location                      | Probability              |\n",
      "|-------------------------------|--------------------------|\n",
      "| Parque Nacional de Gorongosa  | Almost certainly not     |\n",
      "| Vilankulo, Mozambique         | Almost certainly not     |\n",
      "| Betroka, Madagascar           | Likely                   |\n",
      "| Ambalabongo, Madagascar       | Likely                   |\n",
      "\n",
      "### Justification:\n",
      "\n",
      "1. **Parque Nacional de Gorongosa, Mozambique**:\n",
      "   - The fosa (Cryptoprocta ferox) is endemic to Madagascar and does not naturally occur outside the island. Therefore, it is almost certainly not found in Parque Nacional de Gorongosa in Mozambique.\n",
      "\n",
      "2. **Vilankulo, Mozambique**:\n",
      "   - Similar to Parque Nacional de Gorongosa, Vilankulo is located in Mozambique, a country on the African continent. The fosa is endemic to Madagascar, making it almost certainly not present in Vilankulo.\n",
      "\n",
      "3. **Betroka, Madagascar**:\n",
      "   - Betroka is located in Madagascar, within the range where the fosa is known to inhabit. The fosa is found in various forested regions across Madagascar, making it likely that it could be found in Betroka.\n",
      "\n",
      "4. **Ambalabongo, Madagascar**:\n",
      "   - Ambalabongo is also located in Madagascar. Given the fosa's wide distribution across the island, it is likely that the species can be found in this area as well.\n"
     ]
    }
   ],
   "source": [
    "prompt = chat_prompt_template.format_prompt(\n",
    "    text=\"\"\"\n",
    "    Can you tell me if the Fosa (Cryptoprocta ferox) can be found in:\n",
    "    Parque Nacional de Gorongosa, Mozambique\n",
    "    Vilankulo, Mozambique\n",
    "    Betroka, Madagascar\n",
    "    Ambalabongo, Madagascar\n",
    "    Please respond with one of the following 5 classes of probability that the species will be found there: almost certainly not, unlikely, possibly ,likely, almost certainly.\n",
    "    Please provide your response in a tabular format with justification text after the table.\n",
    "    \n",
    "    \"\"\"\n",
    ").to_messages()\n",
    "\n",
    "response = llm_open_ai.invoke(prompt)\n",
    "print(response.content)"
   ]
  },
  {
   "cell_type": "code",
   "execution_count": 14,
   "metadata": {},
   "outputs": [
    {
     "name": "stdout",
     "output_type": "stream",
     "text": [
      "The Yangtze Giant Softshell Turtle (Rafetus swinhoei), one of the world's most critically endangered turtles, historically inhabited various parts of China and Vietnam. As of recent reports, only a few individuals are known to exist, and their locations are highly restricted.\n",
      "\n",
      "Key areas to avoid to prevent disturbing their habitat include:\n",
      "\n",
      "1. **Dong Mo Lake, Vietnam**: This is one of the known habitats with a confirmed individual.\n",
      "2. **Xuan Khanh Lake, Vietnam**: Another location where an individual was confirmed in recent years.\n",
      "3. **Zoos or conservation facilities**: Some individuals may be in captivity for breeding and conservation efforts, primarily in China.\n",
      "\n",
      "Given the extreme rarity of the species and the ongoing conservation efforts, it's crucial to stay updated with the latest information from conservation organizations and local authorities if you are near these areas. Avoiding these specific lakes and closely following guidelines from environmental agencies can help mitigate any potential disturbances to their habitat.\n"
     ]
    }
   ],
   "source": [
    "prompt = chat_prompt_template.format_prompt(\n",
    "    text=\"\"\"\n",
    "    If I want to avoid disturbing the habitat of the Yangtze Giant Softshell Turtle (Rafetus swinhoei), where is it likely to be found and therefore where should I avoid.\n",
    "    \"\"\"\n",
    ").to_messages()\n",
    "\n",
    "response = llm_open_ai.invoke(prompt)\n",
    "print(response.content)"
   ]
  },
  {
   "cell_type": "markdown",
   "metadata": {},
   "source": [
    "<a id='s2'></a>\n",
    "## 2. System 2 (S2) - [Retrieval Augmented Generation](https://python.langchain.com/v0.2/docs/tutorials/rag/)\n",
    "\n",
    "### Description\n",
    "\n",
    "System 2 introduces a default dossier or a set of background information related to environmental science into the prompt. The purpose is to assess how well the LLM can utilize additional context provided at the time of the query to enhance its responses. This tests the model's ability to integrate new, relevant information with its pre-existing knowledge base, a key factor in providing accurate and useful information for conservation efforts. The use of techniques like Retrieval Augmented Generation (RAG) could potentially enhance this process by dynamically retrieving and incorporating external knowledge sources.\n",
    "\n",
    "\n",
    "### Key documents for the default dossier:\n",
    "\n",
    "For System 2 (S2) we should provide a comprehensive and general set of background information related to biodiversity and conservation. Here are some key documents and sources that could serve as a robust dossier for this purpose:\n",
    "\n",
    "1. **The Convention on Biological Diversity (CBD) - Global Biodiversity Outlook 5 (GBO-5)**:\n",
    "   - This document provides a thorough overview of the state of biodiversity globally, including key indicators, trends, and policy recommendations. It offers a broad context and is a reliable source of up-to-date information.\n",
    "   - [Global Biodiversity Outlook 5](https://www.cbd.int/gbo/gbo5/publication/gbo-5-en.pdf)\n",
    "\n",
    "2. **The Intergovernmental Science-Policy Platform on Biodiversity and Ecosystem Services (IPBES) - Global Assessment Report**:\n",
    "   - This report assesses the state of biodiversity and ecosystem services worldwide, offering valuable insights into the drivers of biodiversity loss and potential policy responses.\n",
    "   - [IPBES Global Assessment Report](https://ipbes.net/global-assessment)\n",
    "\n",
    "3. **The International Union for Conservation of Nature (IUCN) - Red List of Threatened Species**:\n",
    "   - The IUCN Red List provides comprehensive data on the global conservation status of animal, fungi, and plant species. It is an essential resource for understanding the risks faced by various species and the efforts needed to conserve them.\n",
    "   - [IUCN Red List](https://www.iucnredlist.org/)\n",
    "\n",
    "4. **The Millennium Ecosystem Assessment (MEA)**:\n",
    "   - This assessment evaluates the consequences of ecosystem change for human well-being and establishes the scientific basis for actions needed to enhance the conservation and sustainable use of ecosystems.\n",
    "   - [Millennium Ecosystem Assessment](https://www.millenniumassessment.org/en/index.html)\n",
    "\n",
    "5. **The United Nations Environment Programme (UNEP) - Global Environment Outlook (GEO-6)**:\n",
    "   - GEO-6 offers an extensive review of the global environmental situation, including biodiversity, and provides an analysis of the progress made in meeting internationally agreed environmental goals.\n",
    "   - [UNEP GEO-6](https://www.unep.org/resources/global-environment-outlook-6)\n",
    "\n",
    "6. **The World Wildlife Fund (WWF) - Living Planet Report**:\n",
    "   - This report provides an annual snapshot of the state of the world's biodiversity based on the Living Planet Index, highlighting the pressures faced by natural ecosystems and the urgent need for conservation efforts.\n",
    "   - [WWF Living Planet Report](https://livingplanet.panda.org/)\n",
    "\n",
    "Using these documents, we can compile a dossier that includes key sections and summaries from each source, offering a well-rounded set of background information to support the LLM in generating informed and contextually relevant responses to biodiversity and conservation queries.\n",
    "\n",
    "### Example queries\n",
    "\n",
    "To test if the LLM has acquired knowledge from the Global Biodiversity Outlook 5 (GBO-5), we can frame the queries around the specific content and findings of the report. Here are some example queries:\n",
    "\n",
    "1. **Key Findings and Trends:**\n",
    "   - \"What are the current global trends in biodiversity loss and what are the major factors contributing to these trends?\"\n",
    "   - \"What has been the overall progress towards global biodiversity targets in recent years?\"\n",
    "\n",
    "2. **Biodiversity Targets:**\n",
    "   - \"What are the major international biodiversity targets and how successful have global efforts been in meeting these targets?\"\n",
    "   - \"Can you describe the status and progress of the Aichi Biodiversity Targets?\"\n",
    "\n",
    "3. **Drivers of Biodiversity Loss:**\n",
    "   - \"What are the main drivers of biodiversity loss identified in recent global assessments?\"\n",
    "   - \"How does climate change impact biodiversity on a global scale?\"\n",
    "\n",
    "4. **Conservation Efforts:**\n",
    "   - \"What strategies and actions are recommended to enhance biodiversity conservation worldwide?\"\n",
    "   - \"How effective are protected areas in conserving biodiversity and what improvements are suggested?\"\n",
    "\n",
    "5. **Policy and Recommendations:**\n",
    "   - \"What policy measures are recommended to improve biodiversity conservation and integrate it into economic and development planning?\"\n",
    "   - \"What are some key policy recommendations for achieving sustainable biodiversity management?\"\n",
    "\n",
    "6. **Regional Analysis:**\n",
    "   - \"What are the biodiversity trends and challenges in different world regions?\"\n",
    "   - \"Can you discuss specific challenges and opportunities for biodiversity conservation in [specific region]?\"\n",
    "\n",
    "7. **Future Projections:**\n",
    "   - \"What are the projected scenarios for global biodiversity under different future conditions?\"\n",
    "   - \"How might global biodiversity change by 2050 under various conservation and development scenarios?\"\n",
    "\n",
    "8. **Indicators and Data:**\n",
    "   - \"What indicators are commonly used to assess the state of global biodiversity?\"\n",
    "   - \"What is the significance of the Living Planet Index in monitoring biodiversity trends?\"\n",
    "\n",
    "These queries are designed to elicit responses that reflect the content and insights provided in the GBO-5 report, without directly referencing the report itself. This will help assess whether the LLM has internalized and can apply the information from the dossier in a meaningful way."
   ]
  },
  {
   "cell_type": "markdown",
   "metadata": {},
   "source": [
    "### [Build a RAG system](https://python.langchain.com/v0.2/docs/tutorials/pdf_qa/)\n",
    "\n",
    "A typical RAG application has two main components:\n",
    "\n",
    "**Indexing**: a pipeline for ingesting data from a source and indexing it. This usually happens offline.\n",
    "\n",
    "**Retrieval and generation**: the actual RAG chain, which takes the user query at run time and retrieves the relevant data from the index, then passes that to the model.\n",
    "\n",
    "#### **Indexing**\n",
    "1. **Load:** First we need to load our data. This is done with [Document Loaders](https://python.langchain.com/v0.2/docs/concepts/#document-loaders)."
   ]
  },
  {
   "cell_type": "code",
   "execution_count": 5,
   "metadata": {},
   "outputs": [
    {
     "name": "stdout",
     "output_type": "stream",
     "text": [
      "1148\n"
     ]
    }
   ],
   "source": [
    "loader = PyPDFLoader(file_path=\"../data/retrieval_dossier/IPBES GLOBAL REPORT_FULL_DIGITAL_NOV 2021.pdf\")\n",
    "docs = loader.load()\n",
    "print(len(docs))"
   ]
  },
  {
   "cell_type": "markdown",
   "metadata": {},
   "source": [
    "2. **Split:** [Text splitters](https://python.langchain.com/v0.2/docs/concepts/#text-splitters) break large `Documents` into smaller chunks. This is useful both for indexing data and for passing it in to a model, since large chunks are harder to search over and won't fit in a model's finite context window."
   ]
  },
  {
   "cell_type": "code",
   "execution_count": 6,
   "metadata": {},
   "outputs": [],
   "source": [
    "text_splitter = RecursiveCharacterTextSplitter(chunk_size=1000, chunk_overlap=200)\n",
    "splits = text_splitter.split_documents(docs)"
   ]
  },
  {
   "cell_type": "markdown",
   "metadata": {},
   "source": [
    "3. **Store:** We need somewhere to store and index our splits, so that they can later be searched over. This is often done using a [VectorStore](https://python.langchain.com/v0.2/docs/concepts/#vector-stores) and [Embeddings](https://python.langchain.com/v0.2/docs/concepts/#embedding-models) model."
   ]
  },
  {
   "cell_type": "code",
   "execution_count": 7,
   "metadata": {},
   "outputs": [],
   "source": [
    "embeddings = OpenAIEmbeddings()\n",
    "vectorstore = Chroma.from_documents(documents=splits, embedding=embeddings)"
   ]
  },
  {
   "cell_type": "markdown",
   "metadata": {},
   "source": [
    "#### **Retrieval and generation**\n",
    "4. **Retrieve:** Given a user input, relevant splits are retrieved from storage using a \n",
    "[Retriever](https://python.langchain.com/v0.2/docs/concepts/#retrievers)."
   ]
  },
  {
   "cell_type": "code",
   "execution_count": 8,
   "metadata": {},
   "outputs": [],
   "source": [
    "retriever = vectorstore.as_retriever()"
   ]
  },
  {
   "cell_type": "markdown",
   "metadata": {},
   "source": [
    "5. **Generate:** A [ChatModel](https://python.langchain.com/v0.2/docs/concepts/#chat-models) / \n",
    "[LLM](https://python.langchain.com/v0.2/docs/concepts/#llms) produces an answer using a prompt that \n",
    "includes the question and the retrieved data\n",
    "\n",
    "    We'll use some built-in helpers to construct the final rag_chain:"
   ]
  },
  {
   "cell_type": "code",
   "execution_count": 9,
   "metadata": {},
   "outputs": [],
   "source": [
    "system_prompt = (\n",
    "    \"You are a Foundational Nature AI capable of informing questions about \"\n",
    "    \"biodiversity and conservation relevant for real-world decisions. \"\n",
    "    \"Use the following pieces of retrieved context to answer \"\n",
    "    \"the question. If you don't know the answer, say that you \"\n",
    "    \"don't know. \"\n",
    "    \"\\n\\n\"\n",
    "    \"{context}\"\n",
    ")\n",
    "\n",
    "prompt = ChatPromptTemplate.from_messages(\n",
    "    [\n",
    "        (\"system\", system_prompt),\n",
    "        (\"human\", \"{input}\"),\n",
    "    ]\n",
    ")"
   ]
  },
  {
   "cell_type": "code",
   "execution_count": 24,
   "metadata": {},
   "outputs": [
    {
     "data": {
      "text/plain": [
       "{'input': 'Can you tell me if the Fosa (Cryptoprocta ferox) can be found in:Parque Nacional de Gorongosa, MozambiqueVilankulo, MozambiqueBetroka, MadagascarAmbalabongo, MadagascarPlease respond with one of the following 5 classes of probability that the species will be found there: almost certainly not, unlikely, possibly ,likely, almost certainly.Please provide your response in a tabular format with justification text after the table.',\n",
       " 'context': [Document(metadata={'page': 355, 'source': '../data/raw/IPBES GLOBAL REPORT_FULL_DIGITAL_NOV 2021.pdf'}, page_content='30, no. 4 (August 1, 2016): 783–91.  https://\\ndoi.org/10.1111/cobi.12664\\nMoodley, Yoshan, Isa-Rita M. Russo, \\nDesiré L. Dalton, Antoinette Kotzé, \\nShadrack Muya, Patricia Haubensak, \\nBoglárka Bálint, et al.  “Extinctions, \\nGenetic Erosion and Conservation Options \\nfor the Black Rhinoceros (Diceros Bicornis).” \\nScientific Reports  7 (February 2017): \\n41417.  https://doi.org/10.1038/srep41417\\nMoore, Jonathan Harry, Saifon \\nSittimongkol, Ahimsa Campos-Arceiz, \\nTok Sumpah, and Markus Peter \\nEichhorn. “Fruit Gardens Enhance Mammal \\nDiversity and Biomass in a Southeast Asian \\nRainforest.” Biological Conservation  194 \\n(February 1, 2016): 132–38.  https://doi.\\norg/10.1016/j.biocon.2015.12.015\\nMoore, Joslin L., Manne Lisa, Brooks \\nThomas, Burgess Neil D, Davies Robert, \\nRahbek Carsten, Williams Paul, and \\nBalmford Andrew. “The Distribution of \\nCultural and Biological Diversity in Africa.” \\nProceedings of the Royal Society of \\nLondon. Series B: Biological Sciences  269,'),\n",
       "  Document(metadata={'page': 361, 'source': '../data/raw/IPBES GLOBAL REPORT_FULL_DIGITAL_NOV 2021.pdf'}, page_content='Richer de Forges, Bertrand, J. Anthony \\nKoslow, and G. C. B. Poore.  “Diversity and \\nEndemism of the Benthic Seamount Fauna \\nin the Southwest Pacific.” Nature  405 (June \\n22, 2000):  944.\\nRick, Torben C., Patrick V. Kirch, Jon \\nM. Erlandson, and Scott M. Fitzpatrick. \\n“Archeology, Deep History, and the Human \\nTransformation of Island Ecosystems.” \\nAnthropocene  4 (2013): 33–45.  https://doi.\\norg/10.1016/j.ancene.2013.08.002\\nRicklefs, Robert E.  “A Comprehensive \\nFramework for Global Patterns in \\nBiodiversity.” Ecology Letters  7, no. \\n1 (January 2004): 1–15.  https://doi.\\norg/10.1046/j.1461-0248.2003.00554 .x\\nRico, Andreu, Kriengkrai Satapornvanit, \\nMohammad M. Haque, Jiang Min, \\nPhuong T. Nguyen, Trevor C. Telfer, \\nand Paul J. van den Brink.  “Use of \\nChemicals and Biological Products in \\nAsian Aquaculture and Their Potential \\nEnvironmental Risks: A Critical Review.” \\nReviews in Aquaculture  4, no. 2 (2012): \\n75–93.  https://doi. org/10.1111/j.1753-\\n5131.2012.01062.x'),\n",
       "  Document(metadata={'page': 642, 'source': '../data/raw/IPBES GLOBAL REPORT_FULL_DIGITAL_NOV 2021.pdf'}, page_content='Philosophical Transactions of the Royal \\nSociety B: Biological Sciences 363 \\n(1498):1747–52.  https://doi.org/10.1098/\\nrstb.2007.0030Saynes-Vasquez, Alfredo, Heike \\nVibrans, Francisco Vergara-Silva, \\nand Javier Caballero. Intracultural \\nDifferences in Local Botanical Knowledge \\nand Knowledge Loss among the Mexican \\nIsthmus Zapotecs.\\xa0 Plos One \\xa011, no. 3 (MAR \\n17, 2016):  e0151693.\\nSchaafsma, M., Morse-Jones, S., \\nPosen, P., Swetnam, R. D., Balmford, \\nA., Bateman, I. J., Burgess, N. D., \\nChamshama, S. A. O., Fisher, B., \\nFreeman, T., Geofrey, V., Green, R. E., \\nHepelwa, A. S., Hernández-Sirvent, A., \\nHess, S., Kajembe, G. C., Kayharara, \\nG., Kilonzo, M., Kulindwa, K., Lund, \\nJ. F., Madoffe, S. S., Mbwambo, L., \\nMeilby, H., Ngaga, Y. M., Theilade, \\nI., Treue, T., van Beukering, P., \\nVyamana, V. G., & Turner, R. K.  (2014). \\nThe importance of local forest benefits: \\nEconomic valuation of Non-Timber Forest \\nProducts in the Eastern Arc Mountains in \\nTanzania. Global Environmental Change,'),\n",
       "  Document(metadata={'page': 632, 'source': '../data/raw/IPBES GLOBAL REPORT_FULL_DIGITAL_NOV 2021.pdf'}, page_content='Bayala, M. Ouédraogo, S. Soeters, \\nand A. Thiombiano  (2017). Uses and \\nVulnerability of Ligneous Species Exploited \\nby Local Population of Northern Burkina \\nFaso in Their Adaptation Strategies to \\nChanging Environments. Agriculture and \\nFood Security 6 (1).  https://doi.org/10.1186/\\ns40066-017-0090-z\\nOuyang, Z., Zheng, H., Xiao, Y., Polasky, \\nS., Liu, J., Xu, W., Wang, Q., Zhang, L., \\nXiao, Y., & Rao, E.  (n.d.). Improvements \\nin ecosystem services from investments in \\nnatural capital. Science , 352(6292),  1455–\\n1459.\\nOviedo, Gonzalo and Tatjana \\nPuschkarsky. World Heritage and \\nRights-Based Approaches to Nature \\nConservation.\\xa0 International Journal of \\nHeritage Studies \\xa018, no. 3 (2012):  285-296.\\nOweis, Theib Y. (2014). Rainwater \\nHarvesting for Restoring Degraded Dry \\nAgro-Pastoral Ecosystems; a Conceptual \\nReview of Opportunities and Constraints in \\na Changing Climate. Environmental Reviews \\n25 (2):  135–49.\\nOxfam, International Land Coalition,')],\n",
       " 'answer': \"| Location                     | Probability            |\\n|------------------------------|------------------------|\\n| Parque Nacional de Gorongosa, Mozambique | Almost certainly not |\\n| Vilankulo, Mozambique           | Almost certainly not |\\n| Betroka, Madagascar              | Almost certainly     |\\n| Ambalabongo, Madagascar          | Almost certainly     |\\n\\n**Justification:**\\n\\n- **Parque Nacional de Gorongosa, Mozambique:**\\n  The Fosa (Cryptoprocta ferox) is an endemic species to Madagascar and is not found outside the island. Therefore, it is almost certainly not present in Parque Nacional de Gorongosa in Mozambique.\\n\\n- **Vilankulo, Mozambique:**\\n  Similar to Parque Nacional de Gorongosa, Vilankulo is located in Mozambique, and given that the Fosa is endemic to Madagascar, it is almost certainly not found in Vilankulo.\\n\\n- **Betroka, Madagascar:**\\n  Betroka is a region in Madagascar. Since the Fosa is endemic to Madagascar and widely distributed across various habitats on the island, it is almost certainly found in Betroka.\\n\\n- **Ambalabongo, Madagascar:**\\n  Ambalabongo is also a location within Madagascar. Given the Fosa's endemic status and widespread presence across Madagascar, it is almost certainly found in Ambalabongo.\"}"
      ]
     },
     "execution_count": 24,
     "metadata": {},
     "output_type": "execute_result"
    }
   ],
   "source": [
    "llm_open_ai = ChatOpenAI(model=\"gpt-4o\", max_tokens=1024)\n",
    "\n",
    "question_answer_chain = create_stuff_documents_chain(llm_open_ai, prompt)\n",
    "rag_chain = create_retrieval_chain(retriever, question_answer_chain)\n",
    "\n",
    "results = rag_chain.invoke(\n",
    "    {\n",
    "        \"input\":\n",
    "            \"Can you tell me if the Fosa (Cryptoprocta ferox) can be found in:\"\n",
    "            \"Parque Nacional de Gorongosa, Mozambique\"\n",
    "            \"Vilankulo, Mozambique\"\n",
    "            \"Betroka, Madagascar\"\n",
    "            \"Ambalabongo, Madagascar\"\n",
    "            \"Please respond with one of the following 5 classes of probability that the species will be found there: almost certainly not, unlikely, likely, almost certainly.\"\n",
    "            \"Please provide your response in a tabular format with justification text and sources of information after the table.\"\n",
    "    }\n",
    ")\n",
    "\n",
    "results"
   ]
  },
  {
   "cell_type": "code",
   "execution_count": 25,
   "metadata": {},
   "outputs": [
    {
     "name": "stdout",
     "output_type": "stream",
     "text": [
      "| Location                     | Probability            |\n",
      "|------------------------------|------------------------|\n",
      "| Parque Nacional de Gorongosa, Mozambique | Almost certainly not |\n",
      "| Vilankulo, Mozambique           | Almost certainly not |\n",
      "| Betroka, Madagascar              | Almost certainly     |\n",
      "| Ambalabongo, Madagascar          | Almost certainly     |\n",
      "\n",
      "**Justification:**\n",
      "\n",
      "- **Parque Nacional de Gorongosa, Mozambique:**\n",
      "  The Fosa (Cryptoprocta ferox) is an endemic species to Madagascar and is not found outside the island. Therefore, it is almost certainly not present in Parque Nacional de Gorongosa in Mozambique.\n",
      "\n",
      "- **Vilankulo, Mozambique:**\n",
      "  Similar to Parque Nacional de Gorongosa, Vilankulo is located in Mozambique, and given that the Fosa is endemic to Madagascar, it is almost certainly not found in Vilankulo.\n",
      "\n",
      "- **Betroka, Madagascar:**\n",
      "  Betroka is a region in Madagascar. Since the Fosa is endemic to Madagascar and widely distributed across various habitats on the island, it is almost certainly found in Betroka.\n",
      "\n",
      "- **Ambalabongo, Madagascar:**\n",
      "  Ambalabongo is also a location within Madagascar. Given the Fosa's endemic status and widespread presence across Madagascar, it is almost certainly found in Ambalabongo.\n"
     ]
    }
   ],
   "source": [
    "print(results.get(\"answer\"))"
   ]
  },
  {
   "cell_type": "markdown",
   "metadata": {},
   "source": [
    "<a id='s3'></a>\n",
    "## 3. System 3 (S3) - Custom Dossier\n",
    "\n",
    "### Description\n",
    "\n",
    "System 3 involves creating a custom dossier tailored to the specific query or topic at hand, related to biodiversity and conservation. This method aims to evaluate the LLM's performance when given highly relevant and targeted information, testing its ability to process and apply specific details to generate accurate and context-aware responses, essential for informed decision-making in environmental conservation.\n",
    "\n",
    "### [Tool calling agent](https://python.langchain.com/v0.1/docs/modules/agents/agent_types/tool_calling/)\n",
    "\n",
    "One possibility to create a custom \"dossier\" is to use a tool calling agent. This agent can interact with external tools or APIs to gather relevant information based on the query. For example, the agent could access databases of species information, conservation projects, or environmental policies to provide detailed and up-to-date data for the LLM to generate responses.\n",
    "\n",
    "### Example APIs\n",
    "\n",
    "Here are several APIs available that provide information about the location and distribution of species. Here are a few notable ones:\n",
    "\n",
    "1. **GBIF (Global Biodiversity Information Facility) API**:\n",
    "   - The GBIF API provides access to a vast amount of biodiversity data, including species occurrences and distributions.\n",
    "   - [GBIF API Documentation](https://www.gbif.org/developer/summary)\n",
    "\n",
    "2. **iNaturalist API**:\n",
    "   - iNaturalist is a platform where users can share observations of biodiversity. The API allows access to data about species observations.\n",
    "   - [iNaturalist API Documentation](https://www.inaturalist.org/pages/api+reference)\n",
    "\n",
    "3. **Map of Life API**:\n",
    "   - Map of Life integrates diverse data sources to provide information on species distributions and biodiversity patterns.\n",
    "   - [Map of Life API Documentation](https://mol.org/api/)\n",
    "\n",
    "4. **eBird API**:\n",
    "   - eBird is a platform for bird watchers to record sightings. The API provides data on bird species distributions and observations.\n",
    "   - [eBird API Documentation](https://documenter.getpostman.com/view/664302/S1ENwy59)\n",
    "\n",
    "5. **VertNet API**:\n",
    "   - VertNet provides access to vertebrate biodiversity data, including specimen records and observation data.\n",
    "   - [VertNet API Documentation](https://github.com/VertNet/webapp/wiki/Introduction-to-the-VertNet-API)\n",
    "\n",
    "These APIs can provide detailed information about species' locations and distribution patterns. We can use them to query specific species and regions to gather the data we need.\n",
    "\n",
    "\n",
    "### [Build Tool Calling Agent](https://blog.langchain.dev/tool-calling-with-langchain/)\n",
    "\n",
    "LLMs can interact with external data sources via tool calling functionality. Tool calling is a powerful technique that allows developers to build sophisticated applications that can leverage LLMs to access, interact and manipulate external resources like databases, files and APIs.\n",
    "\n",
    "A typical tool calling agent has three main components:\n",
    "\n",
    "**Initialize Tools:** First, we need to set up the tools that the agent will interact with.\n",
    "\n",
    "**Create Agent:** Next, we create the agent that will call these tools based on the user's query.\n",
    "\n",
    "**Invoke Agent:** Finally, we invoke the agent with a query to retrieve the relevant information from the external tools.\n",
    "\n",
    "Here's a step-by-step guide to building a tool calling agent using Langchain:"
   ]
  },
  {
   "cell_type": "markdown",
   "metadata": {},
   "source": [
    "#### **Create Tools**\n",
    "\n",
    "This demo uses [Tavily](https://app.tavily.com/) search engine and iNaturalist API, but you can also swap in any other [built-in tool](https://python.langchain.com/v0.1/docs/integrations/tools/) or add [custom tools](https://python.langchain.com/v0.1/docs/modules/tools/custom_tools/). \n",
    "\n",
    "**Create Tavily search tool**\n",
    "\n",
    "You'll need to [sign up](https://app.tavily.com/sign-in) for an API key and add it to the environment variables."
   ]
  },
  {
   "cell_type": "code",
   "execution_count": 6,
   "metadata": {},
   "outputs": [],
   "source": [
    "search_tool = TavilySearchResults(max_results=1)"
   ]
  },
  {
   "cell_type": "markdown",
   "metadata": {},
   "source": [
    "**Create iNaturalist tool**\n",
    "\n",
    "You'll need to [sign up](https://www.inaturalist.org/users/sign_up) for an API key and add it to the environment variables."
   ]
  },
  {
   "cell_type": "code",
   "execution_count": 7,
   "metadata": {},
   "outputs": [],
   "source": [
    "class RequestInput(BaseModel):\n",
    "    \"\"\"\n",
    "    Request input class for the iNaturalist tool.\n",
    "    \"\"\"\n",
    "\n",
    "    taxon: Union[str, int] = Field(description=\"Taxon name or ID of a species to search for.\")\n",
    "\n",
    "\n",
    "class INaturalistTool(BaseTool):\n",
    "    \"\"\"\n",
    "    Tool for querying the iNaturalist API to get information about places\n",
    "    where a species can be found.\n",
    "    \"\"\"\n",
    "\n",
    "    name = \"inaturalist\"\n",
    "    description = \"This tool is useful for when you need to get information about places where a\"\n",
    "    \"species can be found.\"\n",
    "    args_schema: Type[BaseModel] = RequestInput\n",
    "    api_token = os.getenv(\"INATURALIST_API_KEY\")\n",
    "\n",
    "    def _run(self, taxon):\n",
    "        headers = {\"Authorization\": f\"Bearer {self.api_token}\"}\n",
    "        params = {\n",
    "            \"taxon\": taxon,\n",
    "        }\n",
    "        response = requests.get(\n",
    "            \"https://www.inaturalist.org/places.json\", headers=headers, params=params\n",
    "        )\n",
    "        if response.status_code == 200:\n",
    "            data = response.json()\n",
    "            filtered_data = [\n",
    "                {\n",
    "                    \"name\": item[\"name\"],\n",
    "                    \"latitude\": item[\"latitude\"],\n",
    "                    \"longitude\": item[\"longitude\"],\n",
    "                    \"place_type_name\": item[\"place_type_name\"],\n",
    "                }\n",
    "                for item in data\n",
    "            ]\n",
    "            return filtered_data\n",
    "        else:\n",
    "            return {\"error\": response.status_code, \"message\": response.text}\n",
    "\n",
    "\n",
    "# Initialize the tool with your iNaturalist API token\n",
    "inat_tool = INaturalistTool()"
   ]
  },
  {
   "cell_type": "markdown",
   "metadata": {},
   "source": [
    "#### **Create Agent**\n",
    "Next, let's initialize our tool calling agent"
   ]
  },
  {
   "cell_type": "code",
   "execution_count": 12,
   "metadata": {},
   "outputs": [],
   "source": [
    "llm_open_ai = ChatOpenAI(model=\"gpt-4-turbo\", max_tokens=1024)"
   ]
  },
  {
   "cell_type": "code",
   "execution_count": 19,
   "metadata": {},
   "outputs": [],
   "source": [
    "prompt = ChatPromptTemplate.from_messages(\n",
    "    [\n",
    "        (\n",
    "            \"system\",\n",
    "            \"You are a Foundational Nature AI capable of informing questions about\"\n",
    "            \"and conservation relevant for real-world decisions. If you don't get any result from\"\n",
    "            \"the inaturalist tool use the tavily_search_results_json tool.\",\n",
    "        ),\n",
    "        (\"placeholder\", \"{chat_history}\"),\n",
    "        (\"human\", \"{input}\"),\n",
    "        (\"placeholder\", \"{agent_scratchpad}\"),\n",
    "    ]\n",
    ")\n",
    "\n",
    "tools = [search_tool, inat_tool]\n",
    "\n",
    "# Construct the Tools agent\n",
    "agent = create_tool_calling_agent(llm_open_ai, tools, prompt)"
   ]
  },
  {
   "cell_type": "markdown",
   "metadata": {},
   "source": [
    "#### **Run Agent**\n",
    "Now, let's initialize the executor that will run our agent and invoke it!"
   ]
  },
  {
   "cell_type": "code",
   "execution_count": 20,
   "metadata": {},
   "outputs": [],
   "source": [
    "# Create an agent executor by passing in the agent and tools\n",
    "agent_executor = AgentExecutor(agent=agent, tools=tools, verbose=True)"
   ]
  },
  {
   "cell_type": "code",
   "execution_count": 21,
   "metadata": {},
   "outputs": [
    {
     "name": "stdout",
     "output_type": "stream",
     "text": [
      "\n",
      "\n",
      "\u001b[1m> Entering new AgentExecutor chain...\u001b[0m\n",
      "\u001b[32;1m\u001b[1;3m\n",
      "Invoking: `inaturalist` with `{'taxon': 'Cryptoprocta ferox'}`\n",
      "\n",
      "\n",
      "\u001b[0m\u001b[33;1m\u001b[1;3m[{'name': 'Madagascar', 'latitude': '-19.2909168493', 'longitude': '46.7211052153', 'place_type_name': 'Country'}, {'name': 'Antsiranana', 'latitude': '-13.7810048764', 'longitude': '49.3663842667', 'place_type_name': 'State'}, {'name': 'Antananarivo', 'latitude': '-18.9357201709', 'longitude': '46.8045208501', 'place_type_name': 'State'}, {'name': 'Fianarantsoa', 'latitude': '-21.8663086766', 'longitude': '46.8886047965', 'place_type_name': 'State'}, {'name': 'Mahajanga', 'latitude': '-16.5077797698', 'longitude': '46.6446854389', 'place_type_name': 'State'}, {'name': 'Toamasina', 'latitude': '-17.8005654114', 'longitude': '48.7995072598', 'place_type_name': 'State'}, {'name': 'Toliary', 'latitude': '-22.6278273273', 'longitude': '44.9957564578', 'place_type_name': 'State'}, {'name': 'Itasy', 'latitude': '-19.0538111477', 'longitude': '46.8915748418', 'place_type_name': 'Region'}, {'name': 'Vakinankaratra', 'latitude': '-19.7292132948', 'longitude': '46.8359034301', 'place_type_name': 'Region'}, {'name': 'Diana', 'latitude': '-13.2344945309', 'longitude': '48.868500983', 'place_type_name': 'Region'}, {'name': 'Vatovavy Fitovinany', 'latitude': '-21.3555900043', 'longitude': '47.8895436708', 'place_type_name': 'Region'}, {'name': 'Melaky', 'latitude': '-17.7066911531', 'longitude': '44.7609272546', 'place_type_name': 'Region'}, {'name': 'Sofia', 'latitude': '-15.2995519944', 'longitude': '48.2550277702', 'place_type_name': 'Region'}, {'name': 'Alaotra-Mangoro', 'latitude': '-17.9240724027', 'longitude': '48.3207698833', 'place_type_name': 'Region'}, {'name': 'Atsinanana', 'latitude': '-19.0904776023', 'longitude': '48.7225733239', 'place_type_name': 'Region'}, {'name': 'Atsimo-Andrefana', 'latitude': '-23.073168837', 'longitude': '44.3915011338', 'place_type_name': 'Region'}, {'name': 'Menabe', 'latitude': '-20.2357338841', 'longitude': '44.866216648', 'place_type_name': 'Region'}, {'name': 'Mantadia', 'latitude': '-18.803645', 'longitude': '48.46957', 'place_type_name': 'Open Space'}, {'name': 'Ranomafana National Park', 'latitude': '-21.21855', 'longitude': '47.46626', 'place_type_name': 'Open Space'}, {'name': 'Betampona Reserve', 'latitude': '-17.88833', 'longitude': '49.22849', 'place_type_name': None}, {'name': 'Afrotropic ecozone', 'latitude': '-4.31811', 'longitude': '18.435055', 'place_type_name': 'Zone'}, {'name': 'Zombitse-Vohibasia', 'latitude': '-22.82937', 'longitude': '44.67187', 'place_type_name': 'Open Space'}, {'name': 'Mantadia', 'latitude': '-18.803645', 'longitude': '48.46957', 'place_type_name': 'Open Space'}, {'name': 'Tsingy de Bemaraha', 'latitude': '-18.911975', 'longitude': '44.83084', 'place_type_name': 'Open Space'}, {'name': 'Anjajavy Reserves', 'latitude': '-15.023637801', 'longitude': '47.2701741155', 'place_type_name': 'Zone'}, {'name': 'Africa & surrounding islands', 'latitude': '2.3473471602', 'longitude': '20.5699725152', 'place_type_name': 'Continent'}, {'name': 'Africa', 'latitude': '6.350216504', 'longitude': '18.2786013727', 'place_type_name': 'Continent'}]\u001b[0m\u001b[32;1m\u001b[1;3m\n",
      "Invoking: `tavily_search_results_json` with `{'query': 'Fosa presence Parque Nacional de Gorongosa Mozambique'}`\n",
      "\n",
      "\n",
      "\u001b[0m\u001b[36;1m\u001b[1;3m[{'url': 'https://en.wikipedia.org/wiki/Gorongosa_National_Park', 'content': 'Gorongosa National Park is at the southern end of the Great African Rift Valley in the heart of central Mozambique, Southeast Africa.The more than 4,000 square kilometres (1,500 sq mi) park comprises the valley floor and parts of surrounding plateaus.Rivers originating on nearby Mount Gorongosa (1,863 m (6,112 ft)) water the plain.. Seasonal flooding and waterlogging of the valley, which is ...'}]\u001b[0m\u001b[32;1m\u001b[1;3m\n",
      "Invoking: `tavily_search_results_json` with `{'query': 'Fosa presence Vilankulo Mozambique'}`\n",
      "\n",
      "\n",
      "\u001b[0m\u001b[36;1m\u001b[1;3m[{'url': 'https://www.mozambiquetravel.com/blog/mozambique-top-ten-vilanculos/', 'content': 'Things to do in Vilankulo. The ten best things to do in Vilanculos with Mozambique Travel. See the top attractions and activities in Vilanculos here. This seaside town has certainly grown over the past 10 years and it can make the ideal base for your Mozambique holiday as theres plenty to see and do in Vilanculos. From diving to horse riding ...'}]\u001b[0m\u001b[32;1m\u001b[1;3m\n",
      "Invoking: `tavily_search_results_json` with `{'query': 'Fosa presence Betroka Madagascar'}`\n",
      "\n",
      "\n",
      "\u001b[0m\u001b[36;1m\u001b[1;3m[{'url': 'https://madagascar.wcs.org/Wildlife/The-Fosa.aspx', 'content': 'The Fosa (Cryptoprocta ferox) is the largest wild carnivore living in Madagascar with a geographical range extending over the whole island. It generally lives in small numbers in all remaining forests on the island, preferring pristine and safe forests. With 70-80 cm of length and of 5.5-8.6 kg of weight it has a short reddish brown smooth and ...'}]\u001b[0m\u001b[32;1m\u001b[1;3m\n",
      "Invoking: `tavily_search_results_json` with `{'query': 'Fosa presence Ambalabongo Madagascar'}`\n",
      "\n",
      "\n",
      "\u001b[0m\u001b[36;1m\u001b[1;3m[{'url': 'https://www.fosatravel.com/', 'content': \"Your adventure starts here! Fosa Travel specializes in providing the best travel services in Madagascar. We create customized itineraries for our clients based around their personal plans and preferences. In our line of work we don't only make plans, we help you build experiences and memories. Let us arrange the details of your next trip ...\"}]\u001b[0m\u001b[32;1m\u001b[1;3mBased on the available information, here is the likelihood of finding the Fosa (Cryptoprocta ferox) in each of the specified locations:\n",
      "\n",
      "1. **Parque Nacional de Gorongosa, Mozambique**: The information obtained does not specifically mention the presence of Fosa in Gorongosa National Park. Given that Fosa are endemic to Madagascar, the likelihood of their presence in Gorongosa is extremely low. **Score: 0.05**\n",
      "\n",
      "2. **Vilankulo, Mozambique**: Similar to Gorongosa, there is no specific mention of Fosa in Vilankulo, and considering that Fosa are not native to Mozambique, the likelihood of finding them here is also very low. **Score: 0.05**\n",
      "\n",
      "3. **Betroka, Madagascar**: The information indicates that the Fosa is the largest wild carnivore in Madagascar, with a geographical range covering the entire island, including all remaining forests. Given this broad range and Betroka's location within Madagascar, there is a high likelihood of Fosa presence. **Score: 0.9**\n",
      "\n",
      "4. **Ambalabongo, Madagascar**: Although no direct information about Ambalabongo was retrieved, considering it is located in Madagascar and the Fosa's extensive range across all remaining forests of the island, it is plausible that they can be found in this region as well. **Score: 0.85**\n",
      "\n",
      "These scores reflect the general likelihood based on the Fosa's known distribution and the specific information available for each location.\u001b[0m\n",
      "\n",
      "\u001b[1m> Finished chain.\u001b[0m\n"
     ]
    }
   ],
   "source": [
    "response = agent_executor.invoke(\n",
    "    {\n",
    "        \"input\": \"\"\"Can you tell me if the Fosa (Cryptoprocta ferox) can be found in:\n",
    "Parque Nacional de Gorongosa, Mozambique\n",
    "Vilankulo, Mozambique\n",
    "Betroka, Madagascar\n",
    "Ambalabongo, Madagascar\n",
    "Please respond with a score for each location between 0 and 1, where 1 indicates that you think\n",
    "the species is very likely to be present there.\n",
    "\"\"\"\n",
    "    }\n",
    ")"
   ]
  },
  {
   "cell_type": "code",
   "execution_count": 22,
   "metadata": {},
   "outputs": [
    {
     "name": "stdout",
     "output_type": "stream",
     "text": [
      "Based on the available information, here is the likelihood of finding the Fosa (Cryptoprocta ferox) in each of the specified locations:\n",
      "\n",
      "1. **Parque Nacional de Gorongosa, Mozambique**: The information obtained does not specifically mention the presence of Fosa in Gorongosa National Park. Given that Fosa are endemic to Madagascar, the likelihood of their presence in Gorongosa is extremely low. **Score: 0.05**\n",
      "\n",
      "2. **Vilankulo, Mozambique**: Similar to Gorongosa, there is no specific mention of Fosa in Vilankulo, and considering that Fosa are not native to Mozambique, the likelihood of finding them here is also very low. **Score: 0.05**\n",
      "\n",
      "3. **Betroka, Madagascar**: The information indicates that the Fosa is the largest wild carnivore in Madagascar, with a geographical range covering the entire island, including all remaining forests. Given this broad range and Betroka's location within Madagascar, there is a high likelihood of Fosa presence. **Score: 0.9**\n",
      "\n",
      "4. **Ambalabongo, Madagascar**: Although no direct information about Ambalabongo was retrieved, considering it is located in Madagascar and the Fosa's extensive range across all remaining forests of the island, it is plausible that they can be found in this region as well. **Score: 0.85**\n",
      "\n",
      "These scores reflect the general likelihood based on the Fosa's known distribution and the specific information available for each location.\n"
     ]
    }
   ],
   "source": [
    "print(response.get(\"output\"))"
   ]
  }
 ],
 "metadata": {
  "kernelspec": {
   "display_name": "Python 3",
   "language": "python",
   "name": "python3"
  },
  "language_info": {
   "codemirror_mode": {
    "name": "ipython",
    "version": 3
   },
   "file_extension": ".py",
   "mimetype": "text/x-python",
   "name": "python",
   "nbconvert_exporter": "python",
   "pygments_lexer": "ipython3",
   "version": "3.12.4"
  }
 },
 "nbformat": 4,
 "nbformat_minor": 0
}
