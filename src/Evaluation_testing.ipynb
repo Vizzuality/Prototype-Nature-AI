{
 "cells": [
  {
   "cell_type": "code",
   "execution_count": 69,
   "metadata": {},
   "outputs": [],
   "source": [
    "import pandas as pd\n",
    "import pickle\n",
    "import numpy as np\n",
    "from S2_model import rag_model \n",
    "from s3_model import agent_model "
   ]
  },
  {
   "cell_type": "code",
   "execution_count": 70,
   "metadata": {},
   "outputs": [],
   "source": [
    "params = {}\n",
    "\n",
    "params['Nreplicates'] = 5\n",
    "params['llm_choice'] = \"ChatGPT\"\n",
    "params['model'] = None #llama3.1\" #model choice if using a local Ollama model\n",
    "\n",
    "system_prompt = \"\"\"You are a Foundational Nature AI capable of informing questions about biodiversity and conservation relevant for real-world decisions. \n",
    "                    Please respond with a score between 0 and 1, where 1 indicates that you think the species is very likely to be present there and 0 \n",
    "                    indicates the species is highly unlikely to be found there. Please ensure your response is in the format of the score followed by a\n",
    "                    comma and then the justification.\"\"\""
   ]
  },
  {
   "cell_type": "code",
   "execution_count": 7,
   "metadata": {},
   "outputs": [
    {
     "name": "stdout",
     "output_type": "stream",
     "text": [
      "131472\n"
     ]
    }
   ],
   "source": [
    "s2_model = rag_model(dossier_path='../data/retrieval_dossier/wikipedia-en-dwca-species-descriptions.csv', system_prompt= system_prompt,\n",
    "               llm_choice = params['llm_choice'], model = params['model'], persist_directory='../training/wikipedia')"
   ]
  },
  {
   "cell_type": "code",
   "execution_count": 19,
   "metadata": {},
   "outputs": [],
   "source": [
    "s3_model = agent_model(system_prompt = system_prompt,llm_choice = params['llm_choice'], model = params['model'])"
   ]
  },
  {
   "cell_type": "code",
   "execution_count": 8,
   "metadata": {},
   "outputs": [],
   "source": [
    "question = 'Can you tell me how likely I am to find the snowy owl (Bubo scandiacus) in my garden in Comberton, Cambridgeshire'\n",
    "response = s2_model.invoke_response(question)\n",
    "\n"
   ]
  },
  {
   "cell_type": "code",
   "execution_count": 20,
   "metadata": {},
   "outputs": [
    {
     "name": "stdout",
     "output_type": "stream",
     "text": [
      "\n",
      "\n",
      "\u001b[1m> Entering new AgentExecutor chain...\u001b[0m\n",
      "\u001b[32;1m\u001b[1;3m\n",
      "Invoking: `inaturalist` with `{'taxon': 'Bubo scandiacus'}`\n",
      "\n",
      "\n",
      "\u001b[0m\u001b[38;5;200m\u001b[1;3m[{'name': 'United States', 'latitude': '45.9643322098', 'longitude': '-113.2690112346', 'place_type_name': 'Country'}, {'name': 'Massachusetts', 'latitude': '42.1600897179', 'longitude': '-71.503987243', 'place_type_name': 'State'}, {'name': 'Nebraska', 'latitude': '41.5271511252', 'longitude': '-99.8108558603', 'place_type_name': 'State'}, {'name': 'Delaware', 'latitude': '38.9949683916', 'longitude': '-75.4524914612', 'place_type_name': 'State'}, {'name': 'District of Columbia', 'latitude': '38.9047738879', 'longitude': '-77.0162909031', 'place_type_name': 'State'}, {'name': 'Alaska', 'latitude': '63.7429890154', 'longitude': '-179.6857025', 'place_type_name': 'State'}, {'name': 'Virginia', 'latitude': '37.5108673459', 'longitude': '-78.6663604926', 'place_type_name': 'State'}, {'name': 'Rhode Island', 'latitude': '41.5946290792', 'longitude': '-71.5247424878', 'place_type_name': 'State'}, {'name': 'Oregon', 'latitude': '43.9404388627', 'longitude': '-120.6052728408', 'place_type_name': 'State'}, {'name': 'Oklahoma', 'latitude': '35.5834634846', 'longitude': '-97.5082225215', 'place_type_name': 'State'}, {'name': 'North Dakota', 'latitude': '47.4463098997', 'longitude': '-100.4693952206', 'place_type_name': 'State'}, {'name': 'California', 'latitude': '37.2152974615', 'longitude': '-119.6638369591', 'place_type_name': 'State'}, {'name': 'Wyoming', 'latitude': '42.9995380222', 'longitude': '-107.5513933592', 'place_type_name': 'State'}, {'name': 'Montana', 'latitude': '47.0334211697', 'longitude': '-109.6452093763', 'place_type_name': 'State'}, {'name': 'Maine', 'latitude': '45.2743280972', 'longitude': '-69.2027604515', 'place_type_name': 'State'}, {'name': 'Texas', 'latitude': '31.4472169582', 'longitude': '-99.3171370395', 'place_type_name': 'State'}, {'name': 'Indiana', 'latitude': '39.919885493', 'longitude': '-86.2818272359', 'place_type_name': 'State'}, {'name': 'Florida', 'latitude': '28.4770584155', 'longitude': '-82.4664183893', 'place_type_name': 'State'}, {'name': 'Idaho', 'latitude': '44.3891062304', 'longitude': '-114.6594060387', 'place_type_name': 'State'}, {'name': 'Georgia', 'latitude': '32.6386108576', 'longitude': '-83.4271400062', 'place_type_name': 'State'}, {'name': 'Iowa', 'latitude': '42.0746483205', 'longitude': '-93.5000900947', 'place_type_name': 'State'}, {'name': 'Kansas', 'latitude': '38.4847270724', 'longitude': '-98.3801554042', 'place_type_name': 'State'}, {'name': 'Kentucky', 'latitude': '37.5266182429', 'longitude': '-85.2905644466', 'place_type_name': 'State'}, {'name': 'Missouri', 'latitude': '38.3676304414', 'longitude': '-92.4774251953', 'place_type_name': 'State'}, {'name': 'Michigan', 'latitude': '44.8747736022', 'longitude': '-85.7309529105', 'place_type_name': 'State'}, {'name': 'North Carolina', 'latitude': '35.5260232755', 'longitude': '-79.1309087067', 'place_type_name': 'State'}, {'name': 'Ohio', 'latitude': '40.4154869104', 'longitude': '-82.7093770074', 'place_type_name': 'State'}, {'name': 'Wisconsin', 'latitude': '44.6399447173', 'longitude': '-89.7329331645', 'place_type_name': 'State'}, {'name': 'West Virginia', 'latitude': '38.6425670969', 'longitude': '-80.6137068974', 'place_type_name': 'State'}, {'name': 'Colorado', 'latitude': '38.9985431827', 'longitude': '-105.5478331726', 'place_type_name': 'State'}]\u001b[0m\u001b[32;1m\u001b[1;3m0, The snowy owl (Bubo scandiacus) is primarily found in the United States, particularly in states like Massachusetts, Nebraska, Delaware, and Alaska. It is not native to the UK, and especially not to regions like Cambridgeshire. Thus, it is highly unlikely to encounter a snowy owl in your garden in Comberton, Cambridgeshire.\u001b[0m\n",
      "\n",
      "\u001b[1m> Finished chain.\u001b[0m\n"
     ]
    }
   ],
   "source": [
    "response_s3 = s3_model.invoke_response(question)"
   ]
  },
  {
   "cell_type": "code",
   "execution_count": 22,
   "metadata": {},
   "outputs": [],
   "source": [
    "def filter_response(response):\n",
    "    if {'answer'} <= response.keys():\n",
    "        filtered_response = response['answer']\n",
    "    elif {'output'} <= response.keys():\n",
    "        filtered_response = response['output']\n",
    "\n",
    "    return filtered_response"
   ]
  },
  {
   "cell_type": "code",
   "execution_count": 23,
   "metadata": {},
   "outputs": [
    {
     "data": {
      "text/plain": [
       "'0, Snowy owls are native to Arctic regions and typically breed in the northern circumpolar areas. They are highly unlikely to be found in Cambridgeshire, which is far south of their usual range. While they are nomadic and can sometimes be found at more southerly latitudes, it is extremely rare for them to appear in areas like Comberton.'"
      ]
     },
     "execution_count": 23,
     "metadata": {},
     "output_type": "execute_result"
    }
   ],
   "source": [
    "filter_response(response)"
   ]
  },
  {
   "cell_type": "code",
   "execution_count": 24,
   "metadata": {},
   "outputs": [
    {
     "data": {
      "text/plain": [
       "'0, The snowy owl (Bubo scandiacus) is primarily found in the United States, particularly in states like Massachusetts, Nebraska, Delaware, and Alaska. It is not native to the UK, and especially not to regions like Cambridgeshire. Thus, it is highly unlikely to encounter a snowy owl in your garden in Comberton, Cambridgeshire.'"
      ]
     },
     "execution_count": 24,
     "metadata": {},
     "output_type": "execute_result"
    }
   ],
   "source": [
    "filter_response(response_s3)"
   ]
  },
  {
   "cell_type": "code",
   "execution_count": 5,
   "metadata": {},
   "outputs": [
    {
     "name": "stdout",
     "output_type": "stream",
     "text": [
      "  {'answer': '0, Darwin’s Fox (Lycalopex fulvipes) is endemic to southern Chile and is not found outside this region. Parque Nacional Bahuaja Sonene is located in Peru, far outside the natural range of this species, 1'}\n",
      "0  {'answer': '0, Darwin’s Fox (Lycalopex fulvipe...                                                                                                                                                                       \n",
      "1  {'answer': '0, Darwin’s Fox (Lycalopex fulvipe...                                                                                                                                                                       \n",
      "2  {'answer': '0, Darwin’s Fox (Lycalopex fulvipe...                                                                                                                                                                       \n",
      "3  {'answer': '0, Darwin’s Fox (Lycalopex fulvipe...                                                                                                                                                                       \n"
     ]
    },
    {
     "ename": "EmptyDataError",
     "evalue": "No columns to parse from file",
     "output_type": "error",
     "traceback": [
      "\u001b[0;31m---------------------------------------------------------------------------\u001b[0m",
      "\u001b[0;31mEmptyDataError\u001b[0m                            Traceback (most recent call last)",
      "Cell \u001b[0;32mIn[5], line 5\u001b[0m\n\u001b[1;32m      2\u001b[0m \u001b[38;5;28mprint\u001b[39m(pd\u001b[38;5;241m.\u001b[39mread_table(f, skiprows\u001b[38;5;241m=\u001b[39m\u001b[38;5;241m0\u001b[39m))\n\u001b[1;32m      3\u001b[0m \u001b[38;5;66;03m# for line in f:\u001b[39;00m\n\u001b[1;32m      4\u001b[0m \u001b[38;5;66;03m#     line.to_dict\u001b[39;00m\n\u001b[0;32m----> 5\u001b[0m \u001b[38;5;28;01mfor\u001b[39;00m index, row \u001b[38;5;129;01min\u001b[39;00m \u001b[43mpd\u001b[49m\u001b[38;5;241;43m.\u001b[39;49m\u001b[43mread_table\u001b[49m\u001b[43m(\u001b[49m\u001b[43mf\u001b[49m\u001b[43m,\u001b[49m\u001b[43m \u001b[49m\u001b[43mskiprows\u001b[49m\u001b[38;5;241;43m=\u001b[39;49m\u001b[38;5;241;43m0\u001b[39;49m\u001b[43m)\u001b[49m\u001b[38;5;241m.\u001b[39miterrows():\n\u001b[1;32m      6\u001b[0m     response \u001b[38;5;241m=\u001b[39m row\u001b[38;5;241m.\u001b[39mto_dict()\n\u001b[1;32m      7\u001b[0m     \u001b[38;5;28mprint\u001b[39m(response)\n",
      "File \u001b[0;32m~/miniforge3/envs/foundational_nature_ai/lib/python3.12/site-packages/pandas/io/parsers/readers.py:1405\u001b[0m, in \u001b[0;36mread_table\u001b[0;34m(filepath_or_buffer, sep, delimiter, header, names, index_col, usecols, dtype, engine, converters, true_values, false_values, skipinitialspace, skiprows, skipfooter, nrows, na_values, keep_default_na, na_filter, verbose, skip_blank_lines, parse_dates, infer_datetime_format, keep_date_col, date_parser, date_format, dayfirst, cache_dates, iterator, chunksize, compression, thousands, decimal, lineterminator, quotechar, quoting, doublequote, escapechar, comment, encoding, encoding_errors, dialect, on_bad_lines, delim_whitespace, low_memory, memory_map, float_precision, storage_options, dtype_backend)\u001b[0m\n\u001b[1;32m   1392\u001b[0m kwds_defaults \u001b[38;5;241m=\u001b[39m _refine_defaults_read(\n\u001b[1;32m   1393\u001b[0m     dialect,\n\u001b[1;32m   1394\u001b[0m     delimiter,\n\u001b[0;32m   (...)\u001b[0m\n\u001b[1;32m   1401\u001b[0m     dtype_backend\u001b[38;5;241m=\u001b[39mdtype_backend,\n\u001b[1;32m   1402\u001b[0m )\n\u001b[1;32m   1403\u001b[0m kwds\u001b[38;5;241m.\u001b[39mupdate(kwds_defaults)\n\u001b[0;32m-> 1405\u001b[0m \u001b[38;5;28;01mreturn\u001b[39;00m \u001b[43m_read\u001b[49m\u001b[43m(\u001b[49m\u001b[43mfilepath_or_buffer\u001b[49m\u001b[43m,\u001b[49m\u001b[43m \u001b[49m\u001b[43mkwds\u001b[49m\u001b[43m)\u001b[49m\n",
      "File \u001b[0;32m~/miniforge3/envs/foundational_nature_ai/lib/python3.12/site-packages/pandas/io/parsers/readers.py:620\u001b[0m, in \u001b[0;36m_read\u001b[0;34m(filepath_or_buffer, kwds)\u001b[0m\n\u001b[1;32m    617\u001b[0m _validate_names(kwds\u001b[38;5;241m.\u001b[39mget(\u001b[38;5;124m\"\u001b[39m\u001b[38;5;124mnames\u001b[39m\u001b[38;5;124m\"\u001b[39m, \u001b[38;5;28;01mNone\u001b[39;00m))\n\u001b[1;32m    619\u001b[0m \u001b[38;5;66;03m# Create the parser.\u001b[39;00m\n\u001b[0;32m--> 620\u001b[0m parser \u001b[38;5;241m=\u001b[39m \u001b[43mTextFileReader\u001b[49m\u001b[43m(\u001b[49m\u001b[43mfilepath_or_buffer\u001b[49m\u001b[43m,\u001b[49m\u001b[43m \u001b[49m\u001b[38;5;241;43m*\u001b[39;49m\u001b[38;5;241;43m*\u001b[39;49m\u001b[43mkwds\u001b[49m\u001b[43m)\u001b[49m\n\u001b[1;32m    622\u001b[0m \u001b[38;5;28;01mif\u001b[39;00m chunksize \u001b[38;5;129;01mor\u001b[39;00m iterator:\n\u001b[1;32m    623\u001b[0m     \u001b[38;5;28;01mreturn\u001b[39;00m parser\n",
      "File \u001b[0;32m~/miniforge3/envs/foundational_nature_ai/lib/python3.12/site-packages/pandas/io/parsers/readers.py:1620\u001b[0m, in \u001b[0;36mTextFileReader.__init__\u001b[0;34m(self, f, engine, **kwds)\u001b[0m\n\u001b[1;32m   1617\u001b[0m     \u001b[38;5;28mself\u001b[39m\u001b[38;5;241m.\u001b[39moptions[\u001b[38;5;124m\"\u001b[39m\u001b[38;5;124mhas_index_names\u001b[39m\u001b[38;5;124m\"\u001b[39m] \u001b[38;5;241m=\u001b[39m kwds[\u001b[38;5;124m\"\u001b[39m\u001b[38;5;124mhas_index_names\u001b[39m\u001b[38;5;124m\"\u001b[39m]\n\u001b[1;32m   1619\u001b[0m \u001b[38;5;28mself\u001b[39m\u001b[38;5;241m.\u001b[39mhandles: IOHandles \u001b[38;5;241m|\u001b[39m \u001b[38;5;28;01mNone\u001b[39;00m \u001b[38;5;241m=\u001b[39m \u001b[38;5;28;01mNone\u001b[39;00m\n\u001b[0;32m-> 1620\u001b[0m \u001b[38;5;28mself\u001b[39m\u001b[38;5;241m.\u001b[39m_engine \u001b[38;5;241m=\u001b[39m \u001b[38;5;28;43mself\u001b[39;49m\u001b[38;5;241;43m.\u001b[39;49m\u001b[43m_make_engine\u001b[49m\u001b[43m(\u001b[49m\u001b[43mf\u001b[49m\u001b[43m,\u001b[49m\u001b[43m \u001b[49m\u001b[38;5;28;43mself\u001b[39;49m\u001b[38;5;241;43m.\u001b[39;49m\u001b[43mengine\u001b[49m\u001b[43m)\u001b[49m\n",
      "File \u001b[0;32m~/miniforge3/envs/foundational_nature_ai/lib/python3.12/site-packages/pandas/io/parsers/readers.py:1898\u001b[0m, in \u001b[0;36mTextFileReader._make_engine\u001b[0;34m(self, f, engine)\u001b[0m\n\u001b[1;32m   1895\u001b[0m     \u001b[38;5;28;01mraise\u001b[39;00m \u001b[38;5;167;01mValueError\u001b[39;00m(msg)\n\u001b[1;32m   1897\u001b[0m \u001b[38;5;28;01mtry\u001b[39;00m:\n\u001b[0;32m-> 1898\u001b[0m     \u001b[38;5;28;01mreturn\u001b[39;00m \u001b[43mmapping\u001b[49m\u001b[43m[\u001b[49m\u001b[43mengine\u001b[49m\u001b[43m]\u001b[49m\u001b[43m(\u001b[49m\u001b[43mf\u001b[49m\u001b[43m,\u001b[49m\u001b[43m \u001b[49m\u001b[38;5;241;43m*\u001b[39;49m\u001b[38;5;241;43m*\u001b[39;49m\u001b[38;5;28;43mself\u001b[39;49m\u001b[38;5;241;43m.\u001b[39;49m\u001b[43moptions\u001b[49m\u001b[43m)\u001b[49m\n\u001b[1;32m   1899\u001b[0m \u001b[38;5;28;01mexcept\u001b[39;00m \u001b[38;5;167;01mException\u001b[39;00m:\n\u001b[1;32m   1900\u001b[0m     \u001b[38;5;28;01mif\u001b[39;00m \u001b[38;5;28mself\u001b[39m\u001b[38;5;241m.\u001b[39mhandles \u001b[38;5;129;01mis\u001b[39;00m \u001b[38;5;129;01mnot\u001b[39;00m \u001b[38;5;28;01mNone\u001b[39;00m:\n",
      "File \u001b[0;32m~/miniforge3/envs/foundational_nature_ai/lib/python3.12/site-packages/pandas/io/parsers/c_parser_wrapper.py:93\u001b[0m, in \u001b[0;36mCParserWrapper.__init__\u001b[0;34m(self, src, **kwds)\u001b[0m\n\u001b[1;32m     90\u001b[0m \u001b[38;5;28;01mif\u001b[39;00m kwds[\u001b[38;5;124m\"\u001b[39m\u001b[38;5;124mdtype_backend\u001b[39m\u001b[38;5;124m\"\u001b[39m] \u001b[38;5;241m==\u001b[39m \u001b[38;5;124m\"\u001b[39m\u001b[38;5;124mpyarrow\u001b[39m\u001b[38;5;124m\"\u001b[39m:\n\u001b[1;32m     91\u001b[0m     \u001b[38;5;66;03m# Fail here loudly instead of in cython after reading\u001b[39;00m\n\u001b[1;32m     92\u001b[0m     import_optional_dependency(\u001b[38;5;124m\"\u001b[39m\u001b[38;5;124mpyarrow\u001b[39m\u001b[38;5;124m\"\u001b[39m)\n\u001b[0;32m---> 93\u001b[0m \u001b[38;5;28mself\u001b[39m\u001b[38;5;241m.\u001b[39m_reader \u001b[38;5;241m=\u001b[39m \u001b[43mparsers\u001b[49m\u001b[38;5;241;43m.\u001b[39;49m\u001b[43mTextReader\u001b[49m\u001b[43m(\u001b[49m\u001b[43msrc\u001b[49m\u001b[43m,\u001b[49m\u001b[43m \u001b[49m\u001b[38;5;241;43m*\u001b[39;49m\u001b[38;5;241;43m*\u001b[39;49m\u001b[43mkwds\u001b[49m\u001b[43m)\u001b[49m\n\u001b[1;32m     95\u001b[0m \u001b[38;5;28mself\u001b[39m\u001b[38;5;241m.\u001b[39munnamed_cols \u001b[38;5;241m=\u001b[39m \u001b[38;5;28mself\u001b[39m\u001b[38;5;241m.\u001b[39m_reader\u001b[38;5;241m.\u001b[39munnamed_cols\n\u001b[1;32m     97\u001b[0m \u001b[38;5;66;03m# error: Cannot determine type of 'names'\u001b[39;00m\n",
      "File \u001b[0;32mparsers.pyx:581\u001b[0m, in \u001b[0;36mpandas._libs.parsers.TextReader.__cinit__\u001b[0;34m()\u001b[0m\n",
      "\u001b[0;31mEmptyDataError\u001b[0m: No columns to parse from file"
     ]
    }
   ],
   "source": [
    "with open(f'../output/Q0_s1.txt', 'r') as f:\n",
    "    print(pd.read_table(f, skiprows=0))\n",
    "    # for line in f:\n",
    "    #     line.to_dict\n",
    "    for index, row in pd.read_table(f, skiprows=0).iterrows():\n",
    "        response = row\n",
    "        print(response)"
   ]
  },
  {
   "cell_type": "code",
   "execution_count": 71,
   "metadata": {},
   "outputs": [],
   "source": [
    "import pickle\n",
    "\n",
    "params['pkl_out'] = f\"output/{params['llm_choice']}_All_Model_Q_responses.pkl\""
   ]
  },
  {
   "cell_type": "code",
   "execution_count": 72,
   "metadata": {},
   "outputs": [],
   "source": [
    "in_file = open('../'+params['pkl_out'], 'rb')\n",
    "responses = pickle.load(in_file)\n",
    "in_file.close()"
   ]
  },
  {
   "cell_type": "code",
   "execution_count": 74,
   "metadata": {},
   "outputs": [],
   "source": [
    "def quantitative_species_presence_metric(responses,i):\n",
    "    df = read_and_process_species_responses(responses)\n",
    "    diffs = df['Value'] - data['Value'][i]\n",
    "    mean_diff = np.mean(diffs)\n",
    "    return df['Value'], diffs, mean_diff\n",
    "\n",
    "\n",
    "\n",
    "def read_and_process_species_responses(responses):\n",
    "    \"\"\"\n",
    "    Reads a text file and splits each line into a numeric value and a text description.\n",
    "    Assumes each line starts with a numeric value followed by a comma, then the text.\n",
    "\n",
    "    Parameters:\n",
    "    responses (dict): dictionary of .\n",
    "    \n",
    "    Returns:\n",
    "    DataFrame: A pandas DataFrame with two columns: 'Numeric' and 'Text'.\n",
    "    \"\"\"\n",
    "    data = []  # List to store the split data\n",
    "\n",
    "    # Open the file and process each line\n",
    "    #with open(file_path, 'r', encoding='utf-8') as file:\n",
    "    for r in responses:\n",
    "        # Strip whitespace and split the line at the first comma\n",
    "        parts = r.strip().split(',', 1)\n",
    "        #Check that there are 2 parts and that it doesn't start with \"Note:\"\n",
    "        if len(parts) == 2 and not parts[0].startswith(\"Note:\"):\n",
    "            numeric_value = float(parts[0].strip())  # Convert the numeric part to float\n",
    "            text_description = parts[1].strip()\n",
    "            data.append([numeric_value, text_description])\n",
    "\n",
    "    # Convert the list of data into a DataFrame\n",
    "    df = pd.DataFrame(data, columns=['Value', 'Justification'])\n",
    "    return df\n"
   ]
  },
  {
   "cell_type": "code",
   "execution_count": 75,
   "metadata": {},
   "outputs": [],
   "source": [
    "def read_query_file_and_construct_questions(file_path):\n",
    "    \"\"\"\n",
    "    Reads a custom-formatted file where the first line contains a question with placeholders,\n",
    "    and the subsequent lines contain data in CSV format. This function replaces the placeholders\n",
    "    in the question with data from each row.\n",
    "\n",
    "    Parameters:\n",
    "    file_path (str): The path to the file to be read.\n",
    "    \n",
    "    Returns:\n",
    "    list: A list of questions with data inserted from each row.\n",
    "    \"\"\"\n",
    "    with open(file_path, 'r') as file:\n",
    "        # Extract the first line and get the question template\n",
    "        first_line = file.readline().strip()\n",
    "        if first_line.startswith('#System_prompt: '):\n",
    "            system_prompt = first_line[len('\"#System_prompt:'):].strip()\n",
    "        else:\n",
    "            raise ValueError(\"The file does not start with a proper system prompt header.\")\n",
    "        \n",
    "        second_line = file.readline().strip()\n",
    "        if second_line.startswith('#Prompt: '):\n",
    "            question_template = second_line[len('#Prompt: '):].strip()\n",
    "        else:\n",
    "            raise ValueError(\"The file does not start with a proper question header.\")\n",
    "\n",
    "        # Read the CSV data that follows\n",
    "        data = pd.read_csv(file, skiprows=0)  # We already read the first and second lines, so the cursor is at the second line\n",
    "\n",
    "    # print(repr(question_template))\n",
    "    # q_data_columns = re.findall(r'\\{([^}]+)\\}',question_template)\n",
    "    # print(q_data_columns)\n",
    "\n",
    "\n",
    "    # List to hold all questions filled with data\n",
    "    filled_questions = []\n",
    "\n",
    "    # Fill the question template with data from each row\n",
    "    for index, row in data.iterrows():\n",
    "        filled_question = question_template.format(**row.to_dict())\n",
    "        filled_questions.append(filled_question)\n",
    "    \n",
    "    return system_prompt,filled_questions, data\n",
    "\n",
    "def filter_response(response):\n",
    "    if {'answer'} <= response.keys():\n",
    "        filtered_response = response['answer']\n",
    "    elif {'output'} <= response.keys():\n",
    "        filtered_response = response['output']\n",
    "\n",
    "    return filtered_response"
   ]
  },
  {
   "cell_type": "code",
   "execution_count": 76,
   "metadata": {},
   "outputs": [
    {
     "name": "stdout",
     "output_type": "stream",
     "text": [
      "You are a Foundational Nature AI capable of informing questions about biodiversity and conservation relevant for real-world decisions. Please respond with a score between 0 and 1, where 1 indicates that you think the species is very likely to be present there and 0 indicates the species is highly unlikely to be found there. Please provide your response in the format of the score then a comma, then the justification for the score, then a comma and then a measure of your confidence, again scored from 0 to 1 (0 is very low confidence, 1 is very confident in your answer).\n"
     ]
    }
   ],
   "source": [
    "#Species locations\n",
    "file_path = '../eval/species_geospatial_queries_responses - species_presences.csv'  # Replace this with the path to your file\n",
    "try:\n",
    "    system_prompt, queries, data = read_query_file_and_construct_questions(file_path)\n",
    "    print(system_prompt)\n",
    "\n",
    "except Exception as e:\n",
    "    print(\"Error reading queries:\", e)"
   ]
  },
  {
   "cell_type": "code",
   "execution_count": 97,
   "metadata": {},
   "outputs": [
    {
     "name": "stdout",
     "output_type": "stream",
     "text": [
      "Loading responses from: ../output/ChatGPT_All_Model_Q_responses.pkl\n"
     ]
    }
   ],
   "source": [
    "params['pkl_out'] = f\"../output/{params['llm_choice']}_All_Model_Q_responses.pkl\"\n",
    "models = ['s1','s2','s3']\n",
    "diffs = {}\n",
    "vals = {}\n",
    "mean_diff = {}\n",
    "filtered_responses = {}\n",
    "responses = {}\n",
    "\n",
    "if not responses:\n",
    "    print(f'Loading responses from: {params['pkl_out']}')\n",
    "    in_file = open(params['pkl_out'], 'rb')\n",
    "    responses = pickle.load(in_file)\n",
    "    in_file.close()\n"
   ]
  },
  {
   "cell_type": "code",
   "execution_count": 96,
   "metadata": {},
   "outputs": [
    {
     "data": {
      "text/plain": [
       "[{'input': 'Can you tell me if Darwin’s Fox (Lycalopex fulvipes) can be found in Parque Nacional Bahuaja Sonene, Peru',\n",
       "  'context': [Document(metadata={'source': 'data/retrieval_dossier/wikipedia-en-dwca-species-descriptions.csv'}, page_content='16220,\"Darwin\\'s fox. Lycalopex fulvipes. Ecology. Darwin\\'s fox is generally believed to be a forest obligate species found only in southern temperate rainforests. They only occur in areas of primary forest on Chiloé and on the mainland. They are most active at twilight and before sunrise. In contrast to other Lycalopex species, Darwin\\'s fox prefers open spaces. The population of Chiloé has about 200 individuals, and Nahuelbuta on the mainland contains about 50 individuals. The total population size is about 250 mature individuals with at least 90% of the population occurring in one subspopulation (Chiloé Island). Although the species is protected in Nahuelbuta National Park, substantial mortality sources exist when foxes move to lower, unprotected private areas in search of milder conditions during the winter.Jiménez, J. E., Lucherini, M. & Novaro, A. J., 2004; IUCN & CSG  2004). On mainland Chile, Jaime Jiménez has observed a small population since 1975 in Nahuelbuta National Park;'),\n",
       "   Document(metadata={'source': 'data/retrieval_dossier/wikipedia-en-dwca-species-descriptions.csv'}, page_content='16217,\"Darwin\\'s fox. Lycalopex fulvipes. Abstract. Darwin\\'s fox or Darwin\\'s zorro (Lycalopex fulvipes) is an endangered canid from the genus Lycalopex. It is also known as the zorro chilote or zorro de Darwin in Spanish and lives on Nahuelbuta National Park, the Cordillera de Oncol, Cordillera Pelada in mainland Chile and Chiloé Island.Farías, A. A., M. A. Sepúlveda, E. A. Silva-Rodríguez, A. Eguren, D. González, N. I. Jordán, E. Ovando, P. Stowhas. 2014. A new population of Darwin\\'s fox (Lycalopex fulvipes) in the Valdivian Coastal Range. Revista Chilena de Historia Natural 87:3. This small, dark canine weighs 1.8 to, has a head-and-body length of 48 to and a tail that is 17.5 to. Darwin\\'s fox displays no key differences between male and female other than the fact that the male has a broader muzzle. Males display no territorial behavior and aren\\'t aggressive towards other males roaming around their territory. Darwin\\'s fox was first collected from San Pedro Island off the coast of'),\n",
       "   Document(metadata={'source': 'data/retrieval_dossier/wikipedia-en-dwca-species-descriptions.csv'}, page_content='Habitat\"\". Conservation Biology 10:366–375 In 2012 and 2013 the presence of the Darwin\\'s fox at Oncol Park, Alerce Costero National Park and the Valdivian Coastal Reserve was confirmed through camera trapping.\"'),\n",
       "   Document(metadata={'source': 'data/retrieval_dossier/wikipedia-en-dwca-species-descriptions.csv'}, page_content='16221,\"Darwin\\'s fox. Lycalopex fulvipes. Conservation status. The species was previously classified as Critically Endangered by the IUCN, but in 2016 was downlisted to Endangered, as its area occurrences is apparently substantially larger than originally believed. Current estimates of the total population are still low, with an estimated minimum 227 individuals on the mainland and 412 on Chiloé Island. Fragmentation of forest adjacent to the national park and on the island is a concern for their conservation, and feral dogs may pose the greatest threat to their survival by spreading disease or directly attacking. Persecution by people who think that the foxes attack domestic fowls, though they pose little threat, is also a potential problem.\"')],\n",
       "  'answer': \"0, Darwin's fox (Lycalopex fulvipes) is a species endemic to southern temperate rainforests of Chile, particularly in Chiloé Island and mainland areas such as Nahuelbuta National Park, Cordillera de Oncol, and Cordillera Pelada. Parque Nacional Bahuaja Sonene is located in Peru and does not fall within the known geographical range of this species., 1\"},\n",
       " {'input': 'Can you tell me if Darwin’s Fox (Lycalopex fulvipes) can be found in Parque Nacional Bahuaja Sonene, Peru',\n",
       "  'context': [Document(metadata={'source': 'data/retrieval_dossier/wikipedia-en-dwca-species-descriptions.csv'}, page_content='16220,\"Darwin\\'s fox. Lycalopex fulvipes. Ecology. Darwin\\'s fox is generally believed to be a forest obligate species found only in southern temperate rainforests. They only occur in areas of primary forest on Chiloé and on the mainland. They are most active at twilight and before sunrise. In contrast to other Lycalopex species, Darwin\\'s fox prefers open spaces. The population of Chiloé has about 200 individuals, and Nahuelbuta on the mainland contains about 50 individuals. The total population size is about 250 mature individuals with at least 90% of the population occurring in one subspopulation (Chiloé Island). Although the species is protected in Nahuelbuta National Park, substantial mortality sources exist when foxes move to lower, unprotected private areas in search of milder conditions during the winter.Jiménez, J. E., Lucherini, M. & Novaro, A. J., 2004; IUCN & CSG  2004). On mainland Chile, Jaime Jiménez has observed a small population since 1975 in Nahuelbuta National Park;'),\n",
       "   Document(metadata={'source': 'data/retrieval_dossier/wikipedia-en-dwca-species-descriptions.csv'}, page_content='16217,\"Darwin\\'s fox. Lycalopex fulvipes. Abstract. Darwin\\'s fox or Darwin\\'s zorro (Lycalopex fulvipes) is an endangered canid from the genus Lycalopex. It is also known as the zorro chilote or zorro de Darwin in Spanish and lives on Nahuelbuta National Park, the Cordillera de Oncol, Cordillera Pelada in mainland Chile and Chiloé Island.Farías, A. A., M. A. Sepúlveda, E. A. Silva-Rodríguez, A. Eguren, D. González, N. I. Jordán, E. Ovando, P. Stowhas. 2014. A new population of Darwin\\'s fox (Lycalopex fulvipes) in the Valdivian Coastal Range. Revista Chilena de Historia Natural 87:3. This small, dark canine weighs 1.8 to, has a head-and-body length of 48 to and a tail that is 17.5 to. Darwin\\'s fox displays no key differences between male and female other than the fact that the male has a broader muzzle. Males display no territorial behavior and aren\\'t aggressive towards other males roaming around their territory. Darwin\\'s fox was first collected from San Pedro Island off the coast of'),\n",
       "   Document(metadata={'source': 'data/retrieval_dossier/wikipedia-en-dwca-species-descriptions.csv'}, page_content='Habitat\"\". Conservation Biology 10:366–375 In 2012 and 2013 the presence of the Darwin\\'s fox at Oncol Park, Alerce Costero National Park and the Valdivian Coastal Reserve was confirmed through camera trapping.\"'),\n",
       "   Document(metadata={'source': 'data/retrieval_dossier/wikipedia-en-dwca-species-descriptions.csv'}, page_content='16221,\"Darwin\\'s fox. Lycalopex fulvipes. Conservation status. The species was previously classified as Critically Endangered by the IUCN, but in 2016 was downlisted to Endangered, as its area occurrences is apparently substantially larger than originally believed. Current estimates of the total population are still low, with an estimated minimum 227 individuals on the mainland and 412 on Chiloé Island. Fragmentation of forest adjacent to the national park and on the island is a concern for their conservation, and feral dogs may pose the greatest threat to their survival by spreading disease or directly attacking. Persecution by people who think that the foxes attack domestic fowls, though they pose little threat, is also a potential problem.\"')],\n",
       "  'answer': \"0, Darwin's fox (Lycalopex fulvipes) is endemic to southern Chile, specifically in regions like Chiloé Island and certain areas of the mainland such as Nahuelbuta National Park, as well as the Valdivian Coastal Range. Parque Nacional Bahuaja Sonene is located in Peru, far outside the known range of Darwin's fox. Therefore, it is highly unlikely that this species would be found there., 1\"},\n",
       " {'input': 'Can you tell me if Darwin’s Fox (Lycalopex fulvipes) can be found in Parque Nacional Bahuaja Sonene, Peru',\n",
       "  'context': [Document(metadata={'source': 'data/retrieval_dossier/wikipedia-en-dwca-species-descriptions.csv'}, page_content='16220,\"Darwin\\'s fox. Lycalopex fulvipes. Ecology. Darwin\\'s fox is generally believed to be a forest obligate species found only in southern temperate rainforests. They only occur in areas of primary forest on Chiloé and on the mainland. They are most active at twilight and before sunrise. In contrast to other Lycalopex species, Darwin\\'s fox prefers open spaces. The population of Chiloé has about 200 individuals, and Nahuelbuta on the mainland contains about 50 individuals. The total population size is about 250 mature individuals with at least 90% of the population occurring in one subspopulation (Chiloé Island). Although the species is protected in Nahuelbuta National Park, substantial mortality sources exist when foxes move to lower, unprotected private areas in search of milder conditions during the winter.Jiménez, J. E., Lucherini, M. & Novaro, A. J., 2004; IUCN & CSG  2004). On mainland Chile, Jaime Jiménez has observed a small population since 1975 in Nahuelbuta National Park;'),\n",
       "   Document(metadata={'source': 'data/retrieval_dossier/wikipedia-en-dwca-species-descriptions.csv'}, page_content='16217,\"Darwin\\'s fox. Lycalopex fulvipes. Abstract. Darwin\\'s fox or Darwin\\'s zorro (Lycalopex fulvipes) is an endangered canid from the genus Lycalopex. It is also known as the zorro chilote or zorro de Darwin in Spanish and lives on Nahuelbuta National Park, the Cordillera de Oncol, Cordillera Pelada in mainland Chile and Chiloé Island.Farías, A. A., M. A. Sepúlveda, E. A. Silva-Rodríguez, A. Eguren, D. González, N. I. Jordán, E. Ovando, P. Stowhas. 2014. A new population of Darwin\\'s fox (Lycalopex fulvipes) in the Valdivian Coastal Range. Revista Chilena de Historia Natural 87:3. This small, dark canine weighs 1.8 to, has a head-and-body length of 48 to and a tail that is 17.5 to. Darwin\\'s fox displays no key differences between male and female other than the fact that the male has a broader muzzle. Males display no territorial behavior and aren\\'t aggressive towards other males roaming around their territory. Darwin\\'s fox was first collected from San Pedro Island off the coast of'),\n",
       "   Document(metadata={'source': 'data/retrieval_dossier/wikipedia-en-dwca-species-descriptions.csv'}, page_content='Habitat\"\". Conservation Biology 10:366–375 In 2012 and 2013 the presence of the Darwin\\'s fox at Oncol Park, Alerce Costero National Park and the Valdivian Coastal Reserve was confirmed through camera trapping.\"'),\n",
       "   Document(metadata={'source': 'data/retrieval_dossier/wikipedia-en-dwca-species-descriptions.csv'}, page_content='16221,\"Darwin\\'s fox. Lycalopex fulvipes. Conservation status. The species was previously classified as Critically Endangered by the IUCN, but in 2016 was downlisted to Endangered, as its area occurrences is apparently substantially larger than originally believed. Current estimates of the total population are still low, with an estimated minimum 227 individuals on the mainland and 412 on Chiloé Island. Fragmentation of forest adjacent to the national park and on the island is a concern for their conservation, and feral dogs may pose the greatest threat to their survival by spreading disease or directly attacking. Persecution by people who think that the foxes attack domestic fowls, though they pose little threat, is also a potential problem.\"')],\n",
       "  'answer': \"0, Darwin's fox is endemic to southern Chile, specifically in Chiloé Island, Nahuelbuta National Park, and nearby mainland areas. There is no evidence to suggest that Darwin's fox can be found outside of these regions, including Parque Nacional Bahuaja Sonene in Peru, 1.\"},\n",
       " {'input': 'Can you tell me if Darwin’s Fox (Lycalopex fulvipes) can be found in Parque Nacional Bahuaja Sonene, Peru',\n",
       "  'context': [Document(metadata={'source': 'data/retrieval_dossier/wikipedia-en-dwca-species-descriptions.csv'}, page_content='16220,\"Darwin\\'s fox. Lycalopex fulvipes. Ecology. Darwin\\'s fox is generally believed to be a forest obligate species found only in southern temperate rainforests. They only occur in areas of primary forest on Chiloé and on the mainland. They are most active at twilight and before sunrise. In contrast to other Lycalopex species, Darwin\\'s fox prefers open spaces. The population of Chiloé has about 200 individuals, and Nahuelbuta on the mainland contains about 50 individuals. The total population size is about 250 mature individuals with at least 90% of the population occurring in one subspopulation (Chiloé Island). Although the species is protected in Nahuelbuta National Park, substantial mortality sources exist when foxes move to lower, unprotected private areas in search of milder conditions during the winter.Jiménez, J. E., Lucherini, M. & Novaro, A. J., 2004; IUCN & CSG  2004). On mainland Chile, Jaime Jiménez has observed a small population since 1975 in Nahuelbuta National Park;'),\n",
       "   Document(metadata={'source': 'data/retrieval_dossier/wikipedia-en-dwca-species-descriptions.csv'}, page_content='16217,\"Darwin\\'s fox. Lycalopex fulvipes. Abstract. Darwin\\'s fox or Darwin\\'s zorro (Lycalopex fulvipes) is an endangered canid from the genus Lycalopex. It is also known as the zorro chilote or zorro de Darwin in Spanish and lives on Nahuelbuta National Park, the Cordillera de Oncol, Cordillera Pelada in mainland Chile and Chiloé Island.Farías, A. A., M. A. Sepúlveda, E. A. Silva-Rodríguez, A. Eguren, D. González, N. I. Jordán, E. Ovando, P. Stowhas. 2014. A new population of Darwin\\'s fox (Lycalopex fulvipes) in the Valdivian Coastal Range. Revista Chilena de Historia Natural 87:3. This small, dark canine weighs 1.8 to, has a head-and-body length of 48 to and a tail that is 17.5 to. Darwin\\'s fox displays no key differences between male and female other than the fact that the male has a broader muzzle. Males display no territorial behavior and aren\\'t aggressive towards other males roaming around their territory. Darwin\\'s fox was first collected from San Pedro Island off the coast of'),\n",
       "   Document(metadata={'source': 'data/retrieval_dossier/wikipedia-en-dwca-species-descriptions.csv'}, page_content='Habitat\"\". Conservation Biology 10:366–375 In 2012 and 2013 the presence of the Darwin\\'s fox at Oncol Park, Alerce Costero National Park and the Valdivian Coastal Reserve was confirmed through camera trapping.\"'),\n",
       "   Document(metadata={'source': 'data/retrieval_dossier/wikipedia-en-dwca-species-descriptions.csv'}, page_content='16221,\"Darwin\\'s fox. Lycalopex fulvipes. Conservation status. The species was previously classified as Critically Endangered by the IUCN, but in 2016 was downlisted to Endangered, as its area occurrences is apparently substantially larger than originally believed. Current estimates of the total population are still low, with an estimated minimum 227 individuals on the mainland and 412 on Chiloé Island. Fragmentation of forest adjacent to the national park and on the island is a concern for their conservation, and feral dogs may pose the greatest threat to their survival by spreading disease or directly attacking. Persecution by people who think that the foxes attack domestic fowls, though they pose little threat, is also a potential problem.\"')],\n",
       "  'answer': \"0, Darwin's fox is a species native to southern Chile, specifically found in temperate rainforests on Chiloé Island and in select areas of the mainland such as Nahuelbuta National Park, the Cordillera de Oncol, and the Valdivian Coastal Range. There is no evidence or documented presence of Darwin's fox in Parque Nacional Bahuaja Sonene, which is located in Peru and features a very different ecosystem, primarily tropical and subtropical moist broadleaf forests. Therefore, the likelihood of Darwin's fox being found in Parque Nacional Bahuaja Sonene is extremely low., 1\"},\n",
       " {'input': 'Can you tell me if Darwin’s Fox (Lycalopex fulvipes) can be found in Parque Nacional Bahuaja Sonene, Peru',\n",
       "  'context': [Document(metadata={'source': 'data/retrieval_dossier/wikipedia-en-dwca-species-descriptions.csv'}, page_content='16220,\"Darwin\\'s fox. Lycalopex fulvipes. Ecology. Darwin\\'s fox is generally believed to be a forest obligate species found only in southern temperate rainforests. They only occur in areas of primary forest on Chiloé and on the mainland. They are most active at twilight and before sunrise. In contrast to other Lycalopex species, Darwin\\'s fox prefers open spaces. The population of Chiloé has about 200 individuals, and Nahuelbuta on the mainland contains about 50 individuals. The total population size is about 250 mature individuals with at least 90% of the population occurring in one subspopulation (Chiloé Island). Although the species is protected in Nahuelbuta National Park, substantial mortality sources exist when foxes move to lower, unprotected private areas in search of milder conditions during the winter.Jiménez, J. E., Lucherini, M. & Novaro, A. J., 2004; IUCN & CSG  2004). On mainland Chile, Jaime Jiménez has observed a small population since 1975 in Nahuelbuta National Park;'),\n",
       "   Document(metadata={'source': 'data/retrieval_dossier/wikipedia-en-dwca-species-descriptions.csv'}, page_content='16217,\"Darwin\\'s fox. Lycalopex fulvipes. Abstract. Darwin\\'s fox or Darwin\\'s zorro (Lycalopex fulvipes) is an endangered canid from the genus Lycalopex. It is also known as the zorro chilote or zorro de Darwin in Spanish and lives on Nahuelbuta National Park, the Cordillera de Oncol, Cordillera Pelada in mainland Chile and Chiloé Island.Farías, A. A., M. A. Sepúlveda, E. A. Silva-Rodríguez, A. Eguren, D. González, N. I. Jordán, E. Ovando, P. Stowhas. 2014. A new population of Darwin\\'s fox (Lycalopex fulvipes) in the Valdivian Coastal Range. Revista Chilena de Historia Natural 87:3. This small, dark canine weighs 1.8 to, has a head-and-body length of 48 to and a tail that is 17.5 to. Darwin\\'s fox displays no key differences between male and female other than the fact that the male has a broader muzzle. Males display no territorial behavior and aren\\'t aggressive towards other males roaming around their territory. Darwin\\'s fox was first collected from San Pedro Island off the coast of'),\n",
       "   Document(metadata={'source': 'data/retrieval_dossier/wikipedia-en-dwca-species-descriptions.csv'}, page_content='Habitat\"\". Conservation Biology 10:366–375 In 2012 and 2013 the presence of the Darwin\\'s fox at Oncol Park, Alerce Costero National Park and the Valdivian Coastal Reserve was confirmed through camera trapping.\"'),\n",
       "   Document(metadata={'source': 'data/retrieval_dossier/wikipedia-en-dwca-species-descriptions.csv'}, page_content='16221,\"Darwin\\'s fox. Lycalopex fulvipes. Conservation status. The species was previously classified as Critically Endangered by the IUCN, but in 2016 was downlisted to Endangered, as its area occurrences is apparently substantially larger than originally believed. Current estimates of the total population are still low, with an estimated minimum 227 individuals on the mainland and 412 on Chiloé Island. Fragmentation of forest adjacent to the national park and on the island is a concern for their conservation, and feral dogs may pose the greatest threat to their survival by spreading disease or directly attacking. Persecution by people who think that the foxes attack domestic fowls, though they pose little threat, is also a potential problem.\"')],\n",
       "  'answer': \"0, Darwin's fox (Lycalopex fulvipes) is known to inhabit southern temperate rainforests in Chile, specifically in Chiloé Island and certain mainland areas like Nahuelbuta National Park. Parque Nacional Bahuaja Sonene is located in Peru, which is outside of the known range of Darwin's fox. Additionally, Darwin's fox is a habitat specialist with a very limited geographical distribution, making it highly unlikely to be present in Peru., 1\"},\n",
       " {'input': 'Can you tell me if Darwin’s Fox (Lycalopex fulvipes) can be found in Parque Nacional Bahuaja Sonene, Peru',\n",
       "  'context': [Document(metadata={'source': 'data/retrieval_dossier/wikipedia-en-dwca-species-descriptions.csv'}, page_content='16220,\"Darwin\\'s fox. Lycalopex fulvipes. Ecology. Darwin\\'s fox is generally believed to be a forest obligate species found only in southern temperate rainforests. They only occur in areas of primary forest on Chiloé and on the mainland. They are most active at twilight and before sunrise. In contrast to other Lycalopex species, Darwin\\'s fox prefers open spaces. The population of Chiloé has about 200 individuals, and Nahuelbuta on the mainland contains about 50 individuals. The total population size is about 250 mature individuals with at least 90% of the population occurring in one subspopulation (Chiloé Island). Although the species is protected in Nahuelbuta National Park, substantial mortality sources exist when foxes move to lower, unprotected private areas in search of milder conditions during the winter.Jiménez, J. E., Lucherini, M. & Novaro, A. J., 2004; IUCN & CSG  2004). On mainland Chile, Jaime Jiménez has observed a small population since 1975 in Nahuelbuta National Park;'),\n",
       "   Document(metadata={'source': 'data/retrieval_dossier/wikipedia-en-dwca-species-descriptions.csv'}, page_content='16217,\"Darwin\\'s fox. Lycalopex fulvipes. Abstract. Darwin\\'s fox or Darwin\\'s zorro (Lycalopex fulvipes) is an endangered canid from the genus Lycalopex. It is also known as the zorro chilote or zorro de Darwin in Spanish and lives on Nahuelbuta National Park, the Cordillera de Oncol, Cordillera Pelada in mainland Chile and Chiloé Island.Farías, A. A., M. A. Sepúlveda, E. A. Silva-Rodríguez, A. Eguren, D. González, N. I. Jordán, E. Ovando, P. Stowhas. 2014. A new population of Darwin\\'s fox (Lycalopex fulvipes) in the Valdivian Coastal Range. Revista Chilena de Historia Natural 87:3. This small, dark canine weighs 1.8 to, has a head-and-body length of 48 to and a tail that is 17.5 to. Darwin\\'s fox displays no key differences between male and female other than the fact that the male has a broader muzzle. Males display no territorial behavior and aren\\'t aggressive towards other males roaming around their territory. Darwin\\'s fox was first collected from San Pedro Island off the coast of'),\n",
       "   Document(metadata={'source': 'data/retrieval_dossier/wikipedia-en-dwca-species-descriptions.csv'}, page_content='Habitat\"\". Conservation Biology 10:366–375 In 2012 and 2013 the presence of the Darwin\\'s fox at Oncol Park, Alerce Costero National Park and the Valdivian Coastal Reserve was confirmed through camera trapping.\"'),\n",
       "   Document(metadata={'source': 'data/retrieval_dossier/wikipedia-en-dwca-species-descriptions.csv'}, page_content='16221,\"Darwin\\'s fox. Lycalopex fulvipes. Conservation status. The species was previously classified as Critically Endangered by the IUCN, but in 2016 was downlisted to Endangered, as its area occurrences is apparently substantially larger than originally believed. Current estimates of the total population are still low, with an estimated minimum 227 individuals on the mainland and 412 on Chiloé Island. Fragmentation of forest adjacent to the national park and on the island is a concern for their conservation, and feral dogs may pose the greatest threat to their survival by spreading disease or directly attacking. Persecution by people who think that the foxes attack domestic fowls, though they pose little threat, is also a potential problem.\"')],\n",
       "  'answer': \"0, Darwin's fox (Lycalopex fulvipes) is endemic to southern temperate rainforests in Chile, specifically in areas such as Chiloé Island, Nahuelbuta National Park, and the Valdivian Coastal Range. Parque Nacional Bahuaja Sonene is located in Peru and has a completely different ecosystem, making it highly unlikely for Darwin's fox to be found there., 1\"},\n",
       " {'input': 'Can you tell me if Darwin’s Fox (Lycalopex fulvipes) can be found in Parque Nacional Bahuaja Sonene, Peru',\n",
       "  'context': [Document(metadata={'source': 'data/retrieval_dossier/wikipedia-en-dwca-species-descriptions.csv'}, page_content='16220,\"Darwin\\'s fox. Lycalopex fulvipes. Ecology. Darwin\\'s fox is generally believed to be a forest obligate species found only in southern temperate rainforests. They only occur in areas of primary forest on Chiloé and on the mainland. They are most active at twilight and before sunrise. In contrast to other Lycalopex species, Darwin\\'s fox prefers open spaces. The population of Chiloé has about 200 individuals, and Nahuelbuta on the mainland contains about 50 individuals. The total population size is about 250 mature individuals with at least 90% of the population occurring in one subspopulation (Chiloé Island). Although the species is protected in Nahuelbuta National Park, substantial mortality sources exist when foxes move to lower, unprotected private areas in search of milder conditions during the winter.Jiménez, J. E., Lucherini, M. & Novaro, A. J., 2004; IUCN & CSG  2004). On mainland Chile, Jaime Jiménez has observed a small population since 1975 in Nahuelbuta National Park;'),\n",
       "   Document(metadata={'source': 'data/retrieval_dossier/wikipedia-en-dwca-species-descriptions.csv'}, page_content='16217,\"Darwin\\'s fox. Lycalopex fulvipes. Abstract. Darwin\\'s fox or Darwin\\'s zorro (Lycalopex fulvipes) is an endangered canid from the genus Lycalopex. It is also known as the zorro chilote or zorro de Darwin in Spanish and lives on Nahuelbuta National Park, the Cordillera de Oncol, Cordillera Pelada in mainland Chile and Chiloé Island.Farías, A. A., M. A. Sepúlveda, E. A. Silva-Rodríguez, A. Eguren, D. González, N. I. Jordán, E. Ovando, P. Stowhas. 2014. A new population of Darwin\\'s fox (Lycalopex fulvipes) in the Valdivian Coastal Range. Revista Chilena de Historia Natural 87:3. This small, dark canine weighs 1.8 to, has a head-and-body length of 48 to and a tail that is 17.5 to. Darwin\\'s fox displays no key differences between male and female other than the fact that the male has a broader muzzle. Males display no territorial behavior and aren\\'t aggressive towards other males roaming around their territory. Darwin\\'s fox was first collected from San Pedro Island off the coast of'),\n",
       "   Document(metadata={'source': 'data/retrieval_dossier/wikipedia-en-dwca-species-descriptions.csv'}, page_content='Habitat\"\". Conservation Biology 10:366–375 In 2012 and 2013 the presence of the Darwin\\'s fox at Oncol Park, Alerce Costero National Park and the Valdivian Coastal Reserve was confirmed through camera trapping.\"'),\n",
       "   Document(metadata={'source': 'data/retrieval_dossier/wikipedia-en-dwca-species-descriptions.csv'}, page_content='16221,\"Darwin\\'s fox. Lycalopex fulvipes. Conservation status. The species was previously classified as Critically Endangered by the IUCN, but in 2016 was downlisted to Endangered, as its area occurrences is apparently substantially larger than originally believed. Current estimates of the total population are still low, with an estimated minimum 227 individuals on the mainland and 412 on Chiloé Island. Fragmentation of forest adjacent to the national park and on the island is a concern for their conservation, and feral dogs may pose the greatest threat to their survival by spreading disease or directly attacking. Persecution by people who think that the foxes attack domestic fowls, though they pose little threat, is also a potential problem.\"')],\n",
       "  'answer': \"0, Darwin's Fox (Lycalopex fulvipes) is endemic to southern Chile, specifically in Chiloé Island and Nahuelbuta National Park, as well as some other localized areas in mainland Chile. There are no records or evidence to suggest that this species is present in Parque Nacional Bahuaja Sonene, Peru. My confidence in this answer is 1.\"},\n",
       " {'input': 'Can you tell me if Darwin’s Fox (Lycalopex fulvipes) can be found in Parque Nacional Bahuaja Sonene, Peru',\n",
       "  'context': [Document(metadata={'source': 'data/retrieval_dossier/wikipedia-en-dwca-species-descriptions.csv'}, page_content='16220,\"Darwin\\'s fox. Lycalopex fulvipes. Ecology. Darwin\\'s fox is generally believed to be a forest obligate species found only in southern temperate rainforests. They only occur in areas of primary forest on Chiloé and on the mainland. They are most active at twilight and before sunrise. In contrast to other Lycalopex species, Darwin\\'s fox prefers open spaces. The population of Chiloé has about 200 individuals, and Nahuelbuta on the mainland contains about 50 individuals. The total population size is about 250 mature individuals with at least 90% of the population occurring in one subspopulation (Chiloé Island). Although the species is protected in Nahuelbuta National Park, substantial mortality sources exist when foxes move to lower, unprotected private areas in search of milder conditions during the winter.Jiménez, J. E., Lucherini, M. & Novaro, A. J., 2004; IUCN & CSG  2004). On mainland Chile, Jaime Jiménez has observed a small population since 1975 in Nahuelbuta National Park;'),\n",
       "   Document(metadata={'source': 'data/retrieval_dossier/wikipedia-en-dwca-species-descriptions.csv'}, page_content='16217,\"Darwin\\'s fox. Lycalopex fulvipes. Abstract. Darwin\\'s fox or Darwin\\'s zorro (Lycalopex fulvipes) is an endangered canid from the genus Lycalopex. It is also known as the zorro chilote or zorro de Darwin in Spanish and lives on Nahuelbuta National Park, the Cordillera de Oncol, Cordillera Pelada in mainland Chile and Chiloé Island.Farías, A. A., M. A. Sepúlveda, E. A. Silva-Rodríguez, A. Eguren, D. González, N. I. Jordán, E. Ovando, P. Stowhas. 2014. A new population of Darwin\\'s fox (Lycalopex fulvipes) in the Valdivian Coastal Range. Revista Chilena de Historia Natural 87:3. This small, dark canine weighs 1.8 to, has a head-and-body length of 48 to and a tail that is 17.5 to. Darwin\\'s fox displays no key differences between male and female other than the fact that the male has a broader muzzle. Males display no territorial behavior and aren\\'t aggressive towards other males roaming around their territory. Darwin\\'s fox was first collected from San Pedro Island off the coast of'),\n",
       "   Document(metadata={'source': 'data/retrieval_dossier/wikipedia-en-dwca-species-descriptions.csv'}, page_content='Habitat\"\". Conservation Biology 10:366–375 In 2012 and 2013 the presence of the Darwin\\'s fox at Oncol Park, Alerce Costero National Park and the Valdivian Coastal Reserve was confirmed through camera trapping.\"'),\n",
       "   Document(metadata={'source': 'data/retrieval_dossier/wikipedia-en-dwca-species-descriptions.csv'}, page_content='16221,\"Darwin\\'s fox. Lycalopex fulvipes. Conservation status. The species was previously classified as Critically Endangered by the IUCN, but in 2016 was downlisted to Endangered, as its area occurrences is apparently substantially larger than originally believed. Current estimates of the total population are still low, with an estimated minimum 227 individuals on the mainland and 412 on Chiloé Island. Fragmentation of forest adjacent to the national park and on the island is a concern for their conservation, and feral dogs may pose the greatest threat to their survival by spreading disease or directly attacking. Persecution by people who think that the foxes attack domestic fowls, though they pose little threat, is also a potential problem.\"')],\n",
       "  'answer': \"0, Darwin's fox (Lycalopex fulvipes) is endemic to southern Chile, specifically in regions such as Chiloé Island and Nahuelbuta National Park on the mainland. Parque Nacional Bahuaja Sonene is located in Peru, outside the known range and habitat of Darwin's fox., 1\"},\n",
       " {'input': 'Can you tell me if Darwin’s Fox (Lycalopex fulvipes) can be found in Parque Nacional Bahuaja Sonene, Peru',\n",
       "  'context': [Document(metadata={'source': 'data/retrieval_dossier/wikipedia-en-dwca-species-descriptions.csv'}, page_content='16220,\"Darwin\\'s fox. Lycalopex fulvipes. Ecology. Darwin\\'s fox is generally believed to be a forest obligate species found only in southern temperate rainforests. They only occur in areas of primary forest on Chiloé and on the mainland. They are most active at twilight and before sunrise. In contrast to other Lycalopex species, Darwin\\'s fox prefers open spaces. The population of Chiloé has about 200 individuals, and Nahuelbuta on the mainland contains about 50 individuals. The total population size is about 250 mature individuals with at least 90% of the population occurring in one subspopulation (Chiloé Island). Although the species is protected in Nahuelbuta National Park, substantial mortality sources exist when foxes move to lower, unprotected private areas in search of milder conditions during the winter.Jiménez, J. E., Lucherini, M. & Novaro, A. J., 2004; IUCN & CSG  2004). On mainland Chile, Jaime Jiménez has observed a small population since 1975 in Nahuelbuta National Park;'),\n",
       "   Document(metadata={'source': 'data/retrieval_dossier/wikipedia-en-dwca-species-descriptions.csv'}, page_content='16217,\"Darwin\\'s fox. Lycalopex fulvipes. Abstract. Darwin\\'s fox or Darwin\\'s zorro (Lycalopex fulvipes) is an endangered canid from the genus Lycalopex. It is also known as the zorro chilote or zorro de Darwin in Spanish and lives on Nahuelbuta National Park, the Cordillera de Oncol, Cordillera Pelada in mainland Chile and Chiloé Island.Farías, A. A., M. A. Sepúlveda, E. A. Silva-Rodríguez, A. Eguren, D. González, N. I. Jordán, E. Ovando, P. Stowhas. 2014. A new population of Darwin\\'s fox (Lycalopex fulvipes) in the Valdivian Coastal Range. Revista Chilena de Historia Natural 87:3. This small, dark canine weighs 1.8 to, has a head-and-body length of 48 to and a tail that is 17.5 to. Darwin\\'s fox displays no key differences between male and female other than the fact that the male has a broader muzzle. Males display no territorial behavior and aren\\'t aggressive towards other males roaming around their territory. Darwin\\'s fox was first collected from San Pedro Island off the coast of'),\n",
       "   Document(metadata={'source': 'data/retrieval_dossier/wikipedia-en-dwca-species-descriptions.csv'}, page_content='Habitat\"\". Conservation Biology 10:366–375 In 2012 and 2013 the presence of the Darwin\\'s fox at Oncol Park, Alerce Costero National Park and the Valdivian Coastal Reserve was confirmed through camera trapping.\"'),\n",
       "   Document(metadata={'source': 'data/retrieval_dossier/wikipedia-en-dwca-species-descriptions.csv'}, page_content='16221,\"Darwin\\'s fox. Lycalopex fulvipes. Conservation status. The species was previously classified as Critically Endangered by the IUCN, but in 2016 was downlisted to Endangered, as its area occurrences is apparently substantially larger than originally believed. Current estimates of the total population are still low, with an estimated minimum 227 individuals on the mainland and 412 on Chiloé Island. Fragmentation of forest adjacent to the national park and on the island is a concern for their conservation, and feral dogs may pose the greatest threat to their survival by spreading disease or directly attacking. Persecution by people who think that the foxes attack domestic fowls, though they pose little threat, is also a potential problem.\"')],\n",
       "  'answer': \"0, Darwin's fox is endemic to southern Chile, specifically in areas such as Chiloé Island and Nahuelbuta National Park. There is no evidence or record of Darwin's fox being present in Peru, including Parque Nacional Bahuaja Sonene., 1.\"},\n",
       " {'input': 'Can you tell me if Darwin’s Fox (Lycalopex fulvipes) can be found in Parque Nacional Bahuaja Sonene, Peru',\n",
       "  'context': [Document(metadata={'source': 'data/retrieval_dossier/wikipedia-en-dwca-species-descriptions.csv'}, page_content='16220,\"Darwin\\'s fox. Lycalopex fulvipes. Ecology. Darwin\\'s fox is generally believed to be a forest obligate species found only in southern temperate rainforests. They only occur in areas of primary forest on Chiloé and on the mainland. They are most active at twilight and before sunrise. In contrast to other Lycalopex species, Darwin\\'s fox prefers open spaces. The population of Chiloé has about 200 individuals, and Nahuelbuta on the mainland contains about 50 individuals. The total population size is about 250 mature individuals with at least 90% of the population occurring in one subspopulation (Chiloé Island). Although the species is protected in Nahuelbuta National Park, substantial mortality sources exist when foxes move to lower, unprotected private areas in search of milder conditions during the winter.Jiménez, J. E., Lucherini, M. & Novaro, A. J., 2004; IUCN & CSG  2004). On mainland Chile, Jaime Jiménez has observed a small population since 1975 in Nahuelbuta National Park;'),\n",
       "   Document(metadata={'source': 'data/retrieval_dossier/wikipedia-en-dwca-species-descriptions.csv'}, page_content='16217,\"Darwin\\'s fox. Lycalopex fulvipes. Abstract. Darwin\\'s fox or Darwin\\'s zorro (Lycalopex fulvipes) is an endangered canid from the genus Lycalopex. It is also known as the zorro chilote or zorro de Darwin in Spanish and lives on Nahuelbuta National Park, the Cordillera de Oncol, Cordillera Pelada in mainland Chile and Chiloé Island.Farías, A. A., M. A. Sepúlveda, E. A. Silva-Rodríguez, A. Eguren, D. González, N. I. Jordán, E. Ovando, P. Stowhas. 2014. A new population of Darwin\\'s fox (Lycalopex fulvipes) in the Valdivian Coastal Range. Revista Chilena de Historia Natural 87:3. This small, dark canine weighs 1.8 to, has a head-and-body length of 48 to and a tail that is 17.5 to. Darwin\\'s fox displays no key differences between male and female other than the fact that the male has a broader muzzle. Males display no territorial behavior and aren\\'t aggressive towards other males roaming around their territory. Darwin\\'s fox was first collected from San Pedro Island off the coast of'),\n",
       "   Document(metadata={'source': 'data/retrieval_dossier/wikipedia-en-dwca-species-descriptions.csv'}, page_content='Habitat\"\". Conservation Biology 10:366–375 In 2012 and 2013 the presence of the Darwin\\'s fox at Oncol Park, Alerce Costero National Park and the Valdivian Coastal Reserve was confirmed through camera trapping.\"'),\n",
       "   Document(metadata={'source': 'data/retrieval_dossier/wikipedia-en-dwca-species-descriptions.csv'}, page_content='16221,\"Darwin\\'s fox. Lycalopex fulvipes. Conservation status. The species was previously classified as Critically Endangered by the IUCN, but in 2016 was downlisted to Endangered, as its area occurrences is apparently substantially larger than originally believed. Current estimates of the total population are still low, with an estimated minimum 227 individuals on the mainland and 412 on Chiloé Island. Fragmentation of forest adjacent to the national park and on the island is a concern for their conservation, and feral dogs may pose the greatest threat to their survival by spreading disease or directly attacking. Persecution by people who think that the foxes attack domestic fowls, though they pose little threat, is also a potential problem.\"')],\n",
       "  'answer': \"0, Darwin's Fox (Lycalopex fulvipes) is an endemic species to southern Chile, specifically in areas like Chiloé Island, Nahuelbuta National Park, and the Valdivian Coastal Range. Parque Nacional Bahuaja Sonene is located in Peru, which is outside the known range of this species., 1\"}]"
      ]
     },
     "execution_count": 96,
     "metadata": {},
     "output_type": "execute_result"
    }
   ],
   "source": [
    "responses['0']['s2']"
   ]
  },
  {
   "cell_type": "code",
   "execution_count": 99,
   "metadata": {},
   "outputs": [
    {
     "data": {
      "text/plain": [
       "['0',\n",
       " 'The Fosa (Cryptoprocta ferox) is endemic to Madagascar and is not found outside of the island. Therefore, it is highly unlikely to be found in Parque Nacional de Gorongosa, Mozambique.',\n",
       " 'The Fosa (Cryptoprocta ferox) is endemic to Madagascar and is not found in Parque Nacional de Gorongosa, Mozambique.',\n",
       " 'The Fosa (Cryptoprocta ferox) is endemic to Madagascar and is not found in Parque Nacional de Gorongosa, Mozambique.',\n",
       " 'The Fosa (Cryptoprocta ferox) is endemic to Madagascar and is not found in Mozambique, including Parque Nacional de Gorongosa.',\n",
       " 'The Fosa (Cryptoprocta ferox) is endemic to Madagascar and is not found in Mozambique, including Parque Nacional de Gorongosa.',\n",
       " 'The Fosa (Cryptoprocta ferox) is an endemic species to Madagascar, and it is highly unlikely to be found in Parque Nacional de Gorongosa, Mozambique.',\n",
       " 'The fosa (Cryptoprocta ferox) is endemic to Madagascar and is not found in Mozambique, including Parque Nacional de Gorongosa.',\n",
       " 'The Fosa (Cryptoprocta ferox) is native to Madagascar and is not found in Mozambique, including Parque Nacional de Gorongosa.',\n",
       " '0, The fossa (Cryptoprocta ferox) is endemic to Madagascar and is not found in Mozambique, including Parque Nacional de Gorongosa, 1']"
      ]
     },
     "execution_count": 99,
     "metadata": {},
     "output_type": "execute_result"
    }
   ],
   "source": [
    "i = 2\n",
    "model= 's1'\n",
    "[filter_response(r) for r in responses[str(i)][model]]"
   ]
  },
  {
   "cell_type": "code",
   "execution_count": 77,
   "metadata": {},
   "outputs": [
    {
     "name": "stdout",
     "output_type": "stream",
     "text": [
      "Loading responses from: ../output/ChatGPT_All_Model_Q_responses.pkl\n"
     ]
    },
    {
     "ename": "ValueError",
     "evalue": "could not convert string to float: 'The fossa (Cryptoprocta ferox) is endemic to Madagascar and not native to mainland Africa'",
     "output_type": "error",
     "traceback": [
      "\u001b[0;31m---------------------------------------------------------------------------\u001b[0m",
      "\u001b[0;31mValueError\u001b[0m                                Traceback (most recent call last)",
      "Cell \u001b[0;32mIn[77], line 23\u001b[0m\n\u001b[1;32m     20\u001b[0m \u001b[38;5;28;01mfor\u001b[39;00m model \u001b[38;5;129;01min\u001b[39;00m models:\n\u001b[1;32m     21\u001b[0m     filtered_responses \u001b[38;5;241m=\u001b[39m [filter_response(r) \u001b[38;5;28;01mfor\u001b[39;00m r \u001b[38;5;129;01min\u001b[39;00m responses[\u001b[38;5;28mstr\u001b[39m(i)][model]]\n\u001b[0;32m---> 23\u001b[0m     vals[\u001b[38;5;28mstr\u001b[39m(i)][\u001b[38;5;124m'\u001b[39m\u001b[38;5;124mvals_\u001b[39m\u001b[38;5;124m'\u001b[39m\u001b[38;5;241m+\u001b[39mmodel],diffs[\u001b[38;5;28mstr\u001b[39m(i)][\u001b[38;5;124m'\u001b[39m\u001b[38;5;124mdiffs_\u001b[39m\u001b[38;5;124m'\u001b[39m\u001b[38;5;241m+\u001b[39mmodel], mean_diff[\u001b[38;5;28mstr\u001b[39m(i)][model] \u001b[38;5;241m=\u001b[39m \u001b[43mquantitative_species_presence_metric\u001b[49m\u001b[43m(\u001b[49m\u001b[43mfiltered_responses\u001b[49m\u001b[43m,\u001b[49m\u001b[43mi\u001b[49m\u001b[43m)\u001b[49m\n",
      "Cell \u001b[0;32mIn[74], line 2\u001b[0m, in \u001b[0;36mquantitative_species_presence_metric\u001b[0;34m(responses, i)\u001b[0m\n\u001b[1;32m      1\u001b[0m \u001b[38;5;28;01mdef\u001b[39;00m \u001b[38;5;21mquantitative_species_presence_metric\u001b[39m(responses,i):\n\u001b[0;32m----> 2\u001b[0m     df \u001b[38;5;241m=\u001b[39m \u001b[43mread_and_process_species_responses\u001b[49m\u001b[43m(\u001b[49m\u001b[43mresponses\u001b[49m\u001b[43m)\u001b[49m\n\u001b[1;32m      3\u001b[0m     diffs \u001b[38;5;241m=\u001b[39m df[\u001b[38;5;124m'\u001b[39m\u001b[38;5;124mValue\u001b[39m\u001b[38;5;124m'\u001b[39m] \u001b[38;5;241m-\u001b[39m data[\u001b[38;5;124m'\u001b[39m\u001b[38;5;124mValue\u001b[39m\u001b[38;5;124m'\u001b[39m][i]\n\u001b[1;32m      4\u001b[0m     mean_diff \u001b[38;5;241m=\u001b[39m np\u001b[38;5;241m.\u001b[39mmean(diffs)\n",
      "Cell \u001b[0;32mIn[74], line 29\u001b[0m, in \u001b[0;36mread_and_process_species_responses\u001b[0;34m(responses)\u001b[0m\n\u001b[1;32m     27\u001b[0m \u001b[38;5;66;03m#Check that there are 2 parts and that it doesn't start with \"Note:\"\u001b[39;00m\n\u001b[1;32m     28\u001b[0m \u001b[38;5;28;01mif\u001b[39;00m \u001b[38;5;28mlen\u001b[39m(parts) \u001b[38;5;241m==\u001b[39m \u001b[38;5;241m2\u001b[39m \u001b[38;5;129;01mand\u001b[39;00m \u001b[38;5;129;01mnot\u001b[39;00m parts[\u001b[38;5;241m0\u001b[39m]\u001b[38;5;241m.\u001b[39mstartswith(\u001b[38;5;124m\"\u001b[39m\u001b[38;5;124mNote:\u001b[39m\u001b[38;5;124m\"\u001b[39m):\n\u001b[0;32m---> 29\u001b[0m     numeric_value \u001b[38;5;241m=\u001b[39m \u001b[38;5;28;43mfloat\u001b[39;49m\u001b[43m(\u001b[49m\u001b[43mparts\u001b[49m\u001b[43m[\u001b[49m\u001b[38;5;241;43m0\u001b[39;49m\u001b[43m]\u001b[49m\u001b[38;5;241;43m.\u001b[39;49m\u001b[43mstrip\u001b[49m\u001b[43m(\u001b[49m\u001b[43m)\u001b[49m\u001b[43m)\u001b[49m  \u001b[38;5;66;03m# Convert the numeric part to float\u001b[39;00m\n\u001b[1;32m     30\u001b[0m     text_description \u001b[38;5;241m=\u001b[39m parts[\u001b[38;5;241m1\u001b[39m]\u001b[38;5;241m.\u001b[39mstrip()\n\u001b[1;32m     31\u001b[0m     data\u001b[38;5;241m.\u001b[39mappend([numeric_value, text_description])\n",
      "\u001b[0;31mValueError\u001b[0m: could not convert string to float: 'The fossa (Cryptoprocta ferox) is endemic to Madagascar and not native to mainland Africa'"
     ]
    }
   ],
   "source": [
    "\n",
    "\n",
    "for i, question in enumerate(queries):\n",
    "    \n",
    "    diffs[str(i)] = {}\n",
    "    mean_diff[str(i)] = {}\n",
    "    vals[str(i)] = {}\n",
    "    for model in models:\n",
    "        filtered_responses = [filter_response(r) for r in responses[str(i)][model]]\n",
    " \n",
    "        vals[str(i)]['vals_'+model],diffs[str(i)]['diffs_'+model], mean_diff[str(i)][model] = quantitative_species_presence_metric(filtered_responses,i)\n",
    "        \n"
   ]
  },
  {
   "cell_type": "code",
   "execution_count": 67,
   "metadata": {},
   "outputs": [
    {
     "name": "stdout",
     "output_type": "stream",
     "text": [
      "[[-0.05 -0.05 -0.1 ]\n",
      " [-0.05 -0.15 -0.15]\n",
      " [-0.15 -0.15 -0.15]\n",
      " [-0.05 -0.15 -0.15]\n",
      " [-0.05 -0.15 -0.15]]\n",
      "rmse = [0.08062258 0.13601471 0.14142136]. mean = [-0.07 -0.13 -0.14]\n"
     ]
    }
   ],
   "source": [
    "k = '5'\n",
    "pdf_details = pd.concat([pd.DataFrame(vals[k]),pd.DataFrame(diffs[k])], axis = 1)\n",
    "\n",
    "np_diffs = np.array(pd.DataFrame(diffs[k]))\n",
    "print(np_diffs)\n",
    "rmse = np.sqrt(np.mean(np.square(np_diffs),axis = 0))\n",
    "print(f\"rmse = {rmse}. mean = {np.mean(np_diffs,axis = 0)}\")"
   ]
  },
  {
   "cell_type": "code",
   "execution_count": 53,
   "metadata": {},
   "outputs": [
    {
     "data": {
      "text/plain": [
       "array({'diffs_s1': 0   -0.05\n",
       "1   -0.05\n",
       "2   -0.15\n",
       "3   -0.05\n",
       "4    0.05\n",
       "Name: Value, dtype: float64, 'diffs_s2': 0    0.05\n",
       "1    0.05\n",
       "2    0.05\n",
       "3    0.05\n",
       "4    0.05\n",
       "Name: Value, dtype: float64, 'diffs_s3': 0    0.00\n",
       "1   -0.10\n",
       "2   -0.15\n",
       "3   -0.15\n",
       "4    0.00\n",
       "Name: Value, dtype: float64}, dtype=object)"
      ]
     },
     "execution_count": 53,
     "metadata": {},
     "output_type": "execute_result"
    }
   ],
   "source": [
    "np_diffs"
   ]
  }
 ],
 "metadata": {
  "kernelspec": {
   "display_name": "foundational_nature_ai",
   "language": "python",
   "name": "python3"
  },
  "language_info": {
   "codemirror_mode": {
    "name": "ipython",
    "version": 3
   },
   "file_extension": ".py",
   "mimetype": "text/x-python",
   "name": "python",
   "nbconvert_exporter": "python",
   "pygments_lexer": "ipython3",
   "version": "3.12.4"
  }
 },
 "nbformat": 4,
 "nbformat_minor": 2
}
